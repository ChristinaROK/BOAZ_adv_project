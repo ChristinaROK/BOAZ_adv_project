{
 "cells": [
  {
   "cell_type": "code",
   "execution_count": 1,
   "metadata": {
    "ExecuteTime": {
     "end_time": "2019-03-07T04:43:57.636377Z",
     "start_time": "2019-03-07T04:43:55.066447Z"
    }
   },
   "outputs": [],
   "source": [
    "import pandas as pd\n",
    "import numpy as np"
   ]
  },
  {
   "cell_type": "code",
   "execution_count": 2,
   "metadata": {
    "ExecuteTime": {
     "end_time": "2019-03-07T04:44:40.820489Z",
     "start_time": "2019-03-07T04:43:57.639370Z"
    }
   },
   "outputs": [],
   "source": [
    "train = pd.read_csv('../data/train.csv')"
   ]
  },
  {
   "cell_type": "markdown",
   "metadata": {},
   "source": [
    "# train data"
   ]
  },
  {
   "cell_type": "code",
   "execution_count": 12,
   "metadata": {
    "ExecuteTime": {
     "end_time": "2019-03-07T05:01:20.056911Z",
     "start_time": "2019-03-07T05:01:20.049315Z"
    }
   },
   "outputs": [
    {
     "name": "stdout",
     "output_type": "stream",
     "text": [
      "train data shape :  (15932992, 12)\n"
     ]
    }
   ],
   "source": [
    "print('train data shape : ',train.shape)"
   ]
  },
  {
   "cell_type": "code",
   "execution_count": 4,
   "metadata": {
    "ExecuteTime": {
     "end_time": "2019-03-06T08:18:01.001426Z",
     "start_time": "2019-03-06T08:18:00.944257Z"
    }
   },
   "outputs": [
    {
     "data": {
      "text/html": [
       "<div>\n",
       "<style scoped>\n",
       "    .dataframe tbody tr th:only-of-type {\n",
       "        vertical-align: middle;\n",
       "    }\n",
       "\n",
       "    .dataframe tbody tr th {\n",
       "        vertical-align: top;\n",
       "    }\n",
       "\n",
       "    .dataframe thead th {\n",
       "        text-align: right;\n",
       "    }\n",
       "</style>\n",
       "<table border=\"1\" class=\"dataframe\">\n",
       "  <thead>\n",
       "    <tr style=\"text-align: right;\">\n",
       "      <th></th>\n",
       "      <th>user_id</th>\n",
       "      <th>session_id</th>\n",
       "      <th>timestamp</th>\n",
       "      <th>step</th>\n",
       "      <th>action_type</th>\n",
       "      <th>reference</th>\n",
       "      <th>platform</th>\n",
       "      <th>city</th>\n",
       "      <th>device</th>\n",
       "      <th>current_filters</th>\n",
       "      <th>impressions</th>\n",
       "      <th>prices</th>\n",
       "    </tr>\n",
       "  </thead>\n",
       "  <tbody>\n",
       "    <tr>\n",
       "      <th>0</th>\n",
       "      <td>008UN2RY0DMY</td>\n",
       "      <td>cd10940538005</td>\n",
       "      <td>1541031243</td>\n",
       "      <td>1</td>\n",
       "      <td>search for destination</td>\n",
       "      <td>Rochester, USA</td>\n",
       "      <td>US</td>\n",
       "      <td>Rochester, USA</td>\n",
       "      <td>desktop</td>\n",
       "      <td>NaN</td>\n",
       "      <td>NaN</td>\n",
       "      <td>NaN</td>\n",
       "    </tr>\n",
       "    <tr>\n",
       "      <th>1</th>\n",
       "      <td>008UN2RY0DMY</td>\n",
       "      <td>cd10940538005</td>\n",
       "      <td>1541031463</td>\n",
       "      <td>2</td>\n",
       "      <td>change of sort order</td>\n",
       "      <td>interaction sort button</td>\n",
       "      <td>US</td>\n",
       "      <td>Rochester, USA</td>\n",
       "      <td>desktop</td>\n",
       "      <td>NaN</td>\n",
       "      <td>NaN</td>\n",
       "      <td>NaN</td>\n",
       "    </tr>\n",
       "    <tr>\n",
       "      <th>2</th>\n",
       "      <td>008UN2RY0DMY</td>\n",
       "      <td>cd10940538005</td>\n",
       "      <td>1541031473</td>\n",
       "      <td>3</td>\n",
       "      <td>change of sort order</td>\n",
       "      <td>distance and recommended</td>\n",
       "      <td>US</td>\n",
       "      <td>Rochester, USA</td>\n",
       "      <td>desktop</td>\n",
       "      <td>NaN</td>\n",
       "      <td>NaN</td>\n",
       "      <td>NaN</td>\n",
       "    </tr>\n",
       "    <tr>\n",
       "      <th>3</th>\n",
       "      <td>008UN2RY0DMY</td>\n",
       "      <td>cd10940538005</td>\n",
       "      <td>1541031473</td>\n",
       "      <td>4</td>\n",
       "      <td>filter selection</td>\n",
       "      <td>Focus on Distance</td>\n",
       "      <td>US</td>\n",
       "      <td>Rochester, USA</td>\n",
       "      <td>desktop</td>\n",
       "      <td>Focus on Distance</td>\n",
       "      <td>NaN</td>\n",
       "      <td>NaN</td>\n",
       "    </tr>\n",
       "    <tr>\n",
       "      <th>4</th>\n",
       "      <td>008UN2RY0DMY</td>\n",
       "      <td>cd10940538005</td>\n",
       "      <td>1541031550</td>\n",
       "      <td>5</td>\n",
       "      <td>interaction item image</td>\n",
       "      <td>57103</td>\n",
       "      <td>US</td>\n",
       "      <td>Rochester, USA</td>\n",
       "      <td>desktop</td>\n",
       "      <td>NaN</td>\n",
       "      <td>NaN</td>\n",
       "      <td>NaN</td>\n",
       "    </tr>\n",
       "  </tbody>\n",
       "</table>\n",
       "</div>"
      ],
      "text/plain": [
       "        user_id     session_id   timestamp  step             action_type  \\\n",
       "0  008UN2RY0DMY  cd10940538005  1541031243     1  search for destination   \n",
       "1  008UN2RY0DMY  cd10940538005  1541031463     2    change of sort order   \n",
       "2  008UN2RY0DMY  cd10940538005  1541031473     3    change of sort order   \n",
       "3  008UN2RY0DMY  cd10940538005  1541031473     4        filter selection   \n",
       "4  008UN2RY0DMY  cd10940538005  1541031550     5  interaction item image   \n",
       "\n",
       "                  reference platform            city   device  \\\n",
       "0            Rochester, USA       US  Rochester, USA  desktop   \n",
       "1   interaction sort button       US  Rochester, USA  desktop   \n",
       "2  distance and recommended       US  Rochester, USA  desktop   \n",
       "3         Focus on Distance       US  Rochester, USA  desktop   \n",
       "4                     57103       US  Rochester, USA  desktop   \n",
       "\n",
       "     current_filters impressions prices  \n",
       "0                NaN         NaN    NaN  \n",
       "1                NaN         NaN    NaN  \n",
       "2                NaN         NaN    NaN  \n",
       "3  Focus on Distance         NaN    NaN  \n",
       "4                NaN         NaN    NaN  "
      ]
     },
     "execution_count": 4,
     "metadata": {},
     "output_type": "execute_result"
    }
   ],
   "source": [
    "train.head()"
   ]
  },
  {
   "cell_type": "markdown",
   "metadata": {},
   "source": [
    "## na"
   ]
  },
  {
   "cell_type": "code",
   "execution_count": 6,
   "metadata": {
    "ExecuteTime": {
     "end_time": "2019-03-06T08:19:11.605029Z",
     "start_time": "2019-03-06T08:18:57.301642Z"
    }
   },
   "outputs": [
    {
     "data": {
      "text/plain": [
       "user_id                   0\n",
       "session_id                0\n",
       "timestamp                 0\n",
       "step                      0\n",
       "action_type               0\n",
       "reference                 0\n",
       "platform                  0\n",
       "city                      0\n",
       "device                    0\n",
       "current_filters    15163375\n",
       "impressions        14346406\n",
       "prices             14346406\n",
       "dtype: int64"
      ]
     },
     "execution_count": 6,
     "metadata": {},
     "output_type": "execute_result"
    }
   ],
   "source": [
    "train.isnull().sum()"
   ]
  },
  {
   "cell_type": "code",
   "execution_count": 6,
   "metadata": {
    "ExecuteTime": {
     "end_time": "2019-03-06T12:58:45.681417Z",
     "start_time": "2019-03-06T12:58:37.355891Z"
    }
   },
   "outputs": [
    {
     "name": "stdout",
     "output_type": "stream",
     "text": [
      "current_filters NA 개수 :  15163375 NA 비율 0.951696643041056\n",
      "impressions NA 개수 :  14346406 NA 비율 0.9004213395701197\n",
      "prices NA 개수 :  14346406 NA 비율 0.9004213395701197\n"
     ]
    }
   ],
   "source": [
    "print('current_filters NA 개수 : ', train.current_filters.isnull().sum(), 'NA 비율', train.current_filters.isnull().sum()/len(train))\n",
    "print('impressions NA 개수 : ', train.impressions.isnull().sum(), 'NA 비율', train.impressions.isnull().sum()/len(train))\n",
    "print('prices NA 개수 : ', train.prices.isnull().sum(), 'NA 비율', train.prices.isnull().sum()/len(train))"
   ]
  },
  {
   "cell_type": "code",
   "execution_count": 15,
   "metadata": {
    "ExecuteTime": {
     "end_time": "2019-03-07T05:09:08.805176Z",
     "start_time": "2019-03-07T05:09:01.185385Z"
    }
   },
   "outputs": [
    {
     "name": "stdout",
     "output_type": "stream",
     "text": [
      "prices NA인 경우와 impressions NA인 경우가 같다 \n"
     ]
    }
   ],
   "source": [
    "print('prices NA인 경우와 impressions NA인 경우가 같다 ') if len(train[(train.prices.isna()) & (train.impressions.isna())]) == train.prices.isna().sum() else print('다르다!')"
   ]
  },
  {
   "cell_type": "markdown",
   "metadata": {},
   "source": [
    "## count"
   ]
  },
  {
   "cell_type": "markdown",
   "metadata": {},
   "source": [
    "### current_filters"
   ]
  },
  {
   "cell_type": "code",
   "execution_count": 20,
   "metadata": {
    "ExecuteTime": {
     "end_time": "2019-03-07T05:43:23.448888Z",
     "start_time": "2019-03-07T05:43:21.379399Z"
    }
   },
   "outputs": [
    {
     "data": {
      "text/plain": [
       "Sort by Price                                                                                                                                  77826\n",
       "Focus on Distance                                                                                                                              42332\n",
       "Best Value                                                                                                                                     40861\n",
       "5 Star|Hotel|Motel|Resort|Hostal (ES)                                                                                                          24216\n",
       "5 Star|4 Star|Hotel|Motel|Resort|Hostal (ES)                                                                                                   20014\n",
       "5 Star|4 Star|3 Star|Hotel|Motel|Resort|Hostal (ES)                                                                                            16784\n",
       "Excellent Rating                                                                                                                               12163\n",
       "Very Good Rating                                                                                                                               11686\n",
       "Sort By Distance                                                                                                                               11195\n",
       "House / Apartment|Serviced Apartment                                                                                                           10169\n",
       "5 Star|Hotel|Motel|Resort|Hostal (ES)|4 Star                                                                                                    9888\n",
       "Hotel                                                                                                                                           9611\n",
       "Hotel|Resort                                                                                                                                    8692\n",
       "Focus on Rating                                                                                                                                 8591\n",
       "Free WiFi (Combined)                                                                                                                            7969\n",
       "Breakfast Included                                                                                                                              7465\n",
       "Good Rating                                                                                                                                     7058\n",
       "5 Star                                                                                                                                          6162\n",
       "Sort By Rating                                                                                                                                  6083\n",
       "4 Star                                                                                                                                          5862\n",
       "Swimming Pool (Combined Filter)                                                                                                                 5272\n",
       "Car Park                                                                                                                                        5081\n",
       "5 Star|Hotel|Motel|Resort|Hostal (ES)|4 Star|3 Star                                                                                             5060\n",
       "House / Apartment                                                                                                                               4996\n",
       "5 Star|4 Star|3 Star|2 Star|1 Star|Hotel|Motel|Resort|Hostal (ES)                                                                               4978\n",
       "5 Star|4 Star|3 Star|2 Star|Hotel|Motel|Resort|Hostal (ES)                                                                                      4706\n",
       "Hotel Chain                                                                                                                                     4350\n",
       "Pet Friendly                                                                                                                                    3614\n",
       "3 Star                                                                                                                                          3556\n",
       "Hotel|Resort|Hostal (ES)                                                                                                                        3458\n",
       "                                                                                                                                               ...  \n",
       "5 Star|4 Star|3 Star|Very Good Rating|Breakfast Included|Sort by Price|Hotel                                                                       1\n",
       "Excellent Rating|All Inclusive (Upon Inquiry)|5 Star                                                                                               1\n",
       "5 Star|Hotel|Resort|Excellent Rating|Free WiFi (Combined)|Swimming Pool (Combined Filter)|Spa (Wellness Facility)                                  1\n",
       "4 Star|5 Star|Sort by Price|Good Rating|3 Star                                                                                                     1\n",
       "Excellent Rating|Motel|Resort|5 Star                                                                                                               1\n",
       "Free WiFi (Combined)|Car Park|5 Star|4 Star|3 Star|Hotel|Balcony|Breakfast Included|Best Value                                                     1\n",
       "Hotel|Motel|Resort|Hostal (ES)|House / Apartment|Serviced Apartment|Bed & Breakfast                                                                1\n",
       "Free WiFi (Combined)|Swimming Pool (Combined Filter)|Pet Friendly|Best Value                                                                       1\n",
       "Sort by Price|Free WiFi (Combined)|4 Star|3 Star|5 Star|2 Star|Excellent Rating                                                                    1\n",
       "Car Park|Hotel|Resort|Focus on Distance|Breakfast Included                                                                                         1\n",
       "Focus on Distance|Restaurant|Free WiFi (Combined)|Air Conditioning                                                                                 1\n",
       "Swimming Pool (Combined Filter)|Free WiFi (Combined)|Car Park|Hotel|Sort by Price                                                                  1\n",
       "Very Good Rating|Sort By Popularity|4 Star                                                                                                         1\n",
       "Pet Friendly|Air Conditioning|Kitchen                                                                                                              1\n",
       "Focus on Distance|House / Apartment|Serviced Apartment|Hotel|Resort|Free WiFi (Combined)|Swimming Pool (Combined Filter)|Kitchen|Restaurant        1\n",
       "Sort by Price|Car Park|Free WiFi (Combined)|Spa (Wellness Facility)|Breakfast Included|4 Star|5 Star                                               1\n",
       "Hotel|Hostel|1 Star|Excellent Rating                                                                                                               1\n",
       "5 Star|4 Star|3 Star|Hotel|Very Good Rating|Focus on Distance|Breakfast Included                                                                   1\n",
       "Hotel|Free WiFi (Combined)|Swimming Pool (Combined Filter)|Sort By Distance                                                                        1\n",
       "Hotel|Motel|3 Star|2 Star|Focus on Distance                                                                                                        1\n",
       "Hotel|Hostal (ES)|Focus on Distance|Excellent Rating|Shower                                                                                        1\n",
       "Hostal (ES)|Guest House|Hotel|Sort By Distance                                                                                                     1\n",
       "Breakfast Included|Hotel|Hostal (ES)|4 Star|5 Star                                                                                                 1\n",
       "Restaurant|Car Park|Swimming Pool (Combined Filter)|Reception (24/7)                                                                               1\n",
       "5 Star|4 Star|Hotel|Motel|Resort|Hostal (ES)|Free WiFi (Combined)|Pet Friendly|Reception (24/7)|Very Good Rating                                   1\n",
       "Excellent Rating|Free WiFi (Combined)|Hotel|4 Star|3 Star|Focus on Distance|Car Park|Spa (Wellness Facility)                                       1\n",
       "Free WiFi (Combined)|Air Conditioning|Swimming Pool (Combined Filter)|Restaurant|Reception (24/7)|All Inclusive (Upon Inquiry)|Hotel|Resort        1\n",
       "Hotel|5 Star|Good Rating|Free WiFi (Combined)|Air Conditioning                                                                                     1\n",
       "Swimming Pool (Combined Filter)|5 Star|4 Star|Very Good Rating|Sort by Price                                                                       1\n",
       "Car Park|Free WiFi (Combined)|Focus on Distance|5 Star|4 Star|Hotel|Motel|Hostal (ES)                                                              1\n",
       "Name: current_filters, Length: 60986, dtype: int64"
      ]
     },
     "execution_count": 20,
     "metadata": {},
     "output_type": "execute_result"
    }
   ],
   "source": [
    "train.current_filters.value_counts()"
   ]
  },
  {
   "cell_type": "code",
   "execution_count": 22,
   "metadata": {
    "ExecuteTime": {
     "end_time": "2019-03-07T05:50:45.379586Z",
     "start_time": "2019-03-07T05:50:43.547310Z"
    }
   },
   "outputs": [
    {
     "name": "stdout",
     "output_type": "stream",
     "text": [
      "current_filters unique 개수 :  60986\n"
     ]
    }
   ],
   "source": [
    "print('current_filters unique 개수 : ',len(train.current_filters.value_counts()))"
   ]
  },
  {
   "cell_type": "code",
   "execution_count": 29,
   "metadata": {
    "ExecuteTime": {
     "end_time": "2019-03-07T06:07:06.769651Z",
     "start_time": "2019-03-07T06:07:06.762191Z"
    }
   },
   "outputs": [],
   "source": [
    "from collections import Counter"
   ]
  },
  {
   "cell_type": "code",
   "execution_count": 30,
   "metadata": {
    "ExecuteTime": {
     "end_time": "2019-03-07T06:07:24.454229Z",
     "start_time": "2019-03-07T06:07:22.476512Z"
    }
   },
   "outputs": [
    {
     "data": {
      "text/plain": [
       "Counter({1: 188,\n",
       "         5: 11756,\n",
       "         6: 8217,\n",
       "         7: 5492,\n",
       "         2: 2758,\n",
       "         9: 3003,\n",
       "         8: 3972,\n",
       "         3: 9201,\n",
       "         10: 1901,\n",
       "         4: 12948,\n",
       "         11: 886,\n",
       "         14: 81,\n",
       "         12: 364,\n",
       "         15: 40,\n",
       "         13: 150,\n",
       "         17: 7,\n",
       "         18: 3,\n",
       "         16: 19})"
      ]
     },
     "execution_count": 30,
     "metadata": {},
     "output_type": "execute_result"
    }
   ],
   "source": [
    "filter_count = [] #filter 개수 저장\n",
    "\n",
    "for val in train.current_filters.value_counts().index :\n",
    "    filter_count.append(val.count('|') + 1)\n",
    "    \n",
    "Counter(filter_count)"
   ]
  },
  {
   "cell_type": "markdown",
   "metadata": {},
   "source": [
    "### user_id"
   ]
  },
  {
   "cell_type": "code",
   "execution_count": 33,
   "metadata": {
    "ExecuteTime": {
     "end_time": "2019-03-07T06:09:39.369000Z",
     "start_time": "2019-03-07T06:09:37.342303Z"
    }
   },
   "outputs": [
    {
     "name": "stdout",
     "output_type": "stream",
     "text": [
      "user_id 개수 :  730803\n"
     ]
    }
   ],
   "source": [
    "print('user_id 개수 : ',len(train.user_id.unique()))"
   ]
  },
  {
   "cell_type": "code",
   "execution_count": 35,
   "metadata": {
    "ExecuteTime": {
     "end_time": "2019-03-07T06:12:23.252081Z",
     "start_time": "2019-03-07T06:12:18.220445Z"
    }
   },
   "outputs": [
    {
     "data": {
      "text/plain": [
       "6JWWFFNUMY6Y    6230\n",
       "0H73OEP6Z71O    4084\n",
       "7K4V4W05S7X7    4077\n",
       "SX3I42SKZEVH    3876\n",
       "Q46K4RJHTQFR    3810\n",
       "G7U04A2HQFSG    3607\n",
       "M8E88OK4G3IE    3416\n",
       "A5ZFRVCM2Z1L    3358\n",
       "EQKV6819ZD7M    3320\n",
       "CQM1034RBOZI    3141\n",
       "9I2SR62HL6R2    3118\n",
       "TQQQJ455X1PL    3085\n",
       "086K0G3R63E6    3070\n",
       "4687LWL3ICI7    2984\n",
       "21XFHCJC0TK8    2856\n",
       "CVY951QX5AXY    2825\n",
       "2D0QI8LVF4IL    2800\n",
       "PP8U3ABNV3TL    2748\n",
       "R98ELQDZ8VN9    2706\n",
       "JAVOL38D3IW1    2695\n",
       "BC1DCZHKY1Q2    2648\n",
       "KP9AJQNLOR8N    2570\n",
       "VQQL3J9H9EZE    2551\n",
       "6R0P0IZ7UE65    2531\n",
       "NOMGC52UUP28    2518\n",
       "PCH67PSUL5AB    2504\n",
       "3KFPGH0Z3TSJ    2496\n",
       "ZGXMOMZDXE73    2492\n",
       "CIIC4XZEIYMF    2413\n",
       "9P0MFVWPDARF    2354\n",
       "                ... \n",
       "LDY9N54UDMVL       1\n",
       "W90ODS38MXHP       1\n",
       "P1KU1HQORIM3       1\n",
       "YWZ0X6642JCD       1\n",
       "MK86WANMGCWQ       1\n",
       "XQOAR12D7710       1\n",
       "PGL9L2D1X8QA       1\n",
       "UOMLOC619X6P       1\n",
       "8RY8WDYX63MI       1\n",
       "WU0AF2NCFFQX       1\n",
       "VFIXJCMHU1O4       1\n",
       "O7CCZIMIBRBW       1\n",
       "Q2N3EPILXSDR       1\n",
       "CA5Z04K7X7MX       1\n",
       "GY5C21JCS6CR       1\n",
       "1ZWRICBGPD03       1\n",
       "OP08O208LB39       1\n",
       "FL1H35KPKJAZ       1\n",
       "AL65B9RZ8L0C       1\n",
       "79894YC0G347       1\n",
       "31E6UQ2SGMV8       1\n",
       "TTM3ER3MOEMN       1\n",
       "KJZ1NUIM9JUP       1\n",
       "5EBTDHY1M4MP       1\n",
       "91F340U5DF15       1\n",
       "S76WVYV9SSFC       1\n",
       "H35X66S3N67W       1\n",
       "A9C4JRRJLCGO       1\n",
       "8YDV35GGAILP       1\n",
       "WU8GTBNR7FOJ       1\n",
       "Name: user_id, Length: 730803, dtype: int64"
      ]
     },
     "execution_count": 35,
     "metadata": {},
     "output_type": "execute_result"
    }
   ],
   "source": [
    "train.user_id.value_counts()"
   ]
  },
  {
   "cell_type": "markdown",
   "metadata": {},
   "source": [
    "# test"
   ]
  },
  {
   "cell_type": "code",
   "execution_count": 36,
   "metadata": {
    "ExecuteTime": {
     "end_time": "2019-03-07T06:13:29.316795Z",
     "start_time": "2019-03-07T06:13:08.924239Z"
    }
   },
   "outputs": [],
   "source": [
    "test = pd.read_csv('../data/test.csv')"
   ]
  },
  {
   "cell_type": "code",
   "execution_count": 37,
   "metadata": {
    "ExecuteTime": {
     "end_time": "2019-03-07T06:13:29.332723Z",
     "start_time": "2019-03-07T06:13:29.321971Z"
    }
   },
   "outputs": [
    {
     "name": "stdout",
     "output_type": "stream",
     "text": [
      "test data shape :  (3782335, 12)\n"
     ]
    }
   ],
   "source": [
    "print('test data shape : ',test.shape)"
   ]
  },
  {
   "cell_type": "code",
   "execution_count": 38,
   "metadata": {
    "ExecuteTime": {
     "end_time": "2019-03-07T06:13:29.425141Z",
     "start_time": "2019-03-07T06:13:29.404698Z"
    }
   },
   "outputs": [
    {
     "data": {
      "text/html": [
       "<div>\n",
       "<style scoped>\n",
       "    .dataframe tbody tr th:only-of-type {\n",
       "        vertical-align: middle;\n",
       "    }\n",
       "\n",
       "    .dataframe tbody tr th {\n",
       "        vertical-align: top;\n",
       "    }\n",
       "\n",
       "    .dataframe thead th {\n",
       "        text-align: right;\n",
       "    }\n",
       "</style>\n",
       "<table border=\"1\" class=\"dataframe\">\n",
       "  <thead>\n",
       "    <tr style=\"text-align: right;\">\n",
       "      <th></th>\n",
       "      <th>user_id</th>\n",
       "      <th>session_id</th>\n",
       "      <th>timestamp</th>\n",
       "      <th>step</th>\n",
       "      <th>action_type</th>\n",
       "      <th>reference</th>\n",
       "      <th>platform</th>\n",
       "      <th>city</th>\n",
       "      <th>device</th>\n",
       "      <th>current_filters</th>\n",
       "      <th>impressions</th>\n",
       "      <th>prices</th>\n",
       "    </tr>\n",
       "  </thead>\n",
       "  <tbody>\n",
       "    <tr>\n",
       "      <th>0</th>\n",
       "      <td>000324D9BBUC</td>\n",
       "      <td>89643988fdbfb</td>\n",
       "      <td>1541593272</td>\n",
       "      <td>1</td>\n",
       "      <td>search for destination</td>\n",
       "      <td>Budapest, Hungary</td>\n",
       "      <td>BG</td>\n",
       "      <td>Budapest, Hungary</td>\n",
       "      <td>desktop</td>\n",
       "      <td>NaN</td>\n",
       "      <td>NaN</td>\n",
       "      <td>NaN</td>\n",
       "    </tr>\n",
       "    <tr>\n",
       "      <th>1</th>\n",
       "      <td>000324D9BBUC</td>\n",
       "      <td>89643988fdbfb</td>\n",
       "      <td>1541593820</td>\n",
       "      <td>2</td>\n",
       "      <td>filter selection</td>\n",
       "      <td>Car Park</td>\n",
       "      <td>BG</td>\n",
       "      <td>Budapest, Hungary</td>\n",
       "      <td>desktop</td>\n",
       "      <td>Car Park</td>\n",
       "      <td>NaN</td>\n",
       "      <td>NaN</td>\n",
       "    </tr>\n",
       "    <tr>\n",
       "      <th>2</th>\n",
       "      <td>000324D9BBUC</td>\n",
       "      <td>89643988fdbfb</td>\n",
       "      <td>1541593882</td>\n",
       "      <td>3</td>\n",
       "      <td>interaction item image</td>\n",
       "      <td>1000915</td>\n",
       "      <td>BG</td>\n",
       "      <td>Budapest, Hungary</td>\n",
       "      <td>desktop</td>\n",
       "      <td>NaN</td>\n",
       "      <td>NaN</td>\n",
       "      <td>NaN</td>\n",
       "    </tr>\n",
       "    <tr>\n",
       "      <th>3</th>\n",
       "      <td>000324D9BBUC</td>\n",
       "      <td>89643988fdbfb</td>\n",
       "      <td>1541593882</td>\n",
       "      <td>4</td>\n",
       "      <td>interaction item image</td>\n",
       "      <td>1000915</td>\n",
       "      <td>BG</td>\n",
       "      <td>Budapest, Hungary</td>\n",
       "      <td>desktop</td>\n",
       "      <td>NaN</td>\n",
       "      <td>NaN</td>\n",
       "      <td>NaN</td>\n",
       "    </tr>\n",
       "    <tr>\n",
       "      <th>4</th>\n",
       "      <td>000324D9BBUC</td>\n",
       "      <td>89643988fdbfb</td>\n",
       "      <td>1541593902</td>\n",
       "      <td>5</td>\n",
       "      <td>interaction item image</td>\n",
       "      <td>1000915</td>\n",
       "      <td>BG</td>\n",
       "      <td>Budapest, Hungary</td>\n",
       "      <td>desktop</td>\n",
       "      <td>NaN</td>\n",
       "      <td>NaN</td>\n",
       "      <td>NaN</td>\n",
       "    </tr>\n",
       "  </tbody>\n",
       "</table>\n",
       "</div>"
      ],
      "text/plain": [
       "        user_id     session_id   timestamp  step             action_type  \\\n",
       "0  000324D9BBUC  89643988fdbfb  1541593272     1  search for destination   \n",
       "1  000324D9BBUC  89643988fdbfb  1541593820     2        filter selection   \n",
       "2  000324D9BBUC  89643988fdbfb  1541593882     3  interaction item image   \n",
       "3  000324D9BBUC  89643988fdbfb  1541593882     4  interaction item image   \n",
       "4  000324D9BBUC  89643988fdbfb  1541593902     5  interaction item image   \n",
       "\n",
       "           reference platform               city   device current_filters  \\\n",
       "0  Budapest, Hungary       BG  Budapest, Hungary  desktop             NaN   \n",
       "1           Car Park       BG  Budapest, Hungary  desktop        Car Park   \n",
       "2            1000915       BG  Budapest, Hungary  desktop             NaN   \n",
       "3            1000915       BG  Budapest, Hungary  desktop             NaN   \n",
       "4            1000915       BG  Budapest, Hungary  desktop             NaN   \n",
       "\n",
       "  impressions prices  \n",
       "0         NaN    NaN  \n",
       "1         NaN    NaN  \n",
       "2         NaN    NaN  \n",
       "3         NaN    NaN  \n",
       "4         NaN    NaN  "
      ]
     },
     "execution_count": 38,
     "metadata": {},
     "output_type": "execute_result"
    }
   ],
   "source": [
    "test.head()"
   ]
  },
  {
   "cell_type": "markdown",
   "metadata": {},
   "source": [
    "## na"
   ]
  },
  {
   "cell_type": "code",
   "execution_count": 40,
   "metadata": {
    "ExecuteTime": {
     "end_time": "2019-03-07T06:15:29.064710Z",
     "start_time": "2019-03-07T06:15:24.814456Z"
    }
   },
   "outputs": [
    {
     "data": {
      "text/plain": [
       "user_id                  0\n",
       "session_id               0\n",
       "timestamp                0\n",
       "step                     0\n",
       "action_type              0\n",
       "reference           261731\n",
       "platform                 0\n",
       "city                     0\n",
       "device                   0\n",
       "current_filters    3570444\n",
       "impressions        3253556\n",
       "prices             3253556\n",
       "dtype: int64"
      ]
     },
     "execution_count": 40,
     "metadata": {},
     "output_type": "execute_result"
    }
   ],
   "source": [
    "test.isnull().sum()"
   ]
  },
  {
   "cell_type": "code",
   "execution_count": 41,
   "metadata": {
    "ExecuteTime": {
     "end_time": "2019-03-07T06:16:43.216898Z",
     "start_time": "2019-03-07T06:16:40.430466Z"
    }
   },
   "outputs": [
    {
     "name": "stdout",
     "output_type": "stream",
     "text": [
      "reference NA 개수 :  261731 NA 비율 0.06919825980512039\n",
      "current_filters NA 개수 :  3570444 NA 비율 0.9439787855914402\n",
      "impressions NA 개수 :  3253556 NA 비율 0.8601977349970322\n",
      "prices NA 개수 :  3253556 NA 비율 0.8601977349970322\n"
     ]
    }
   ],
   "source": [
    "print('reference NA 개수 : ', test.reference.isnull().sum(), 'NA 비율', test.reference.isnull().sum()/len(test))\n",
    "print('current_filters NA 개수 : ', test.current_filters.isnull().sum(), 'NA 비율', test.current_filters.isnull().sum()/len(test))\n",
    "print('impressions NA 개수 : ', test.impressions.isnull().sum(), 'NA 비율', test.impressions.isnull().sum()/len(test))\n",
    "print('prices NA 개수 : ', test.prices.isnull().sum(), 'NA 비율', test.prices.isnull().sum()/len(test))"
   ]
  },
  {
   "cell_type": "code",
   "execution_count": 42,
   "metadata": {
    "ExecuteTime": {
     "end_time": "2019-03-07T06:25:30.360394Z",
     "start_time": "2019-03-07T06:25:29.881098Z"
    }
   },
   "outputs": [
    {
     "name": "stdout",
     "output_type": "stream",
     "text": [
      "user_id 개수 :  250852\n"
     ]
    }
   ],
   "source": [
    "print('user_id 개수 : ',len(test.user_id.unique()))"
   ]
  },
  {
   "cell_type": "markdown",
   "metadata": {},
   "source": [
    "# train & test"
   ]
  },
  {
   "cell_type": "markdown",
   "metadata": {},
   "source": [
    "## user_id"
   ]
  },
  {
   "cell_type": "code",
   "execution_count": 43,
   "metadata": {
    "ExecuteTime": {
     "end_time": "2019-03-07T06:26:53.588600Z",
     "start_time": "2019-03-07T06:26:52.143606Z"
    }
   },
   "outputs": [
    {
     "data": {
      "text/plain": [
       "'겹친다.'"
      ]
     },
     "execution_count": 43,
     "metadata": {},
     "output_type": "execute_result"
    }
   ],
   "source": [
    "print('train & test의 user_id 가 겹치지 않는다.')if len(set(train.user_id) - set(test.user_id)) == 0 else ('겹친다.')"
   ]
  },
  {
   "cell_type": "code",
   "execution_count": 47,
   "metadata": {
    "ExecuteTime": {
     "end_time": "2019-03-07T06:29:47.472934Z",
     "start_time": "2019-03-07T06:29:43.613701Z"
    }
   },
   "outputs": [
    {
     "name": "stdout",
     "output_type": "stream",
     "text": [
      "train에만 있는 user_id 개수 697189\n",
      "test에만 있는 user_id 개수 217238\n",
      "train, test 모두 포함하는 user_id 개수 33614\n"
     ]
    }
   ],
   "source": [
    "print('train에만 있는 user_id 개수',len(set(train.user_id) - set(test.user_id)))\n",
    "print('test에만 있는 user_id 개수',len(set(test.user_id) - set(train.user_id)))\n",
    "print('train, test 모두 포함하는 user_id 개수', len(set(train.user_id) & set(test.user_id)))"
   ]
  },
  {
   "cell_type": "markdown",
   "metadata": {},
   "source": [
    "# item_meta"
   ]
  },
  {
   "cell_type": "code",
   "execution_count": 49,
   "metadata": {
    "ExecuteTime": {
     "end_time": "2019-03-07T06:32:55.025350Z",
     "start_time": "2019-03-07T06:32:48.367386Z"
    }
   },
   "outputs": [],
   "source": [
    "item_metadata = pd.read_csv('../data/item_metadata.csv')"
   ]
  },
  {
   "cell_type": "code",
   "execution_count": 50,
   "metadata": {
    "ExecuteTime": {
     "end_time": "2019-03-07T06:33:04.973762Z",
     "start_time": "2019-03-07T06:33:04.968324Z"
    }
   },
   "outputs": [
    {
     "name": "stdout",
     "output_type": "stream",
     "text": [
      "item_metadata data shape :  (927142, 2)\n"
     ]
    }
   ],
   "source": [
    "print('item_metadata data shape : ',item_metadata.shape)"
   ]
  },
  {
   "cell_type": "code",
   "execution_count": 51,
   "metadata": {
    "ExecuteTime": {
     "end_time": "2019-03-07T06:33:07.140008Z",
     "start_time": "2019-03-07T06:33:07.125776Z"
    }
   },
   "outputs": [
    {
     "data": {
      "text/html": [
       "<div>\n",
       "<style scoped>\n",
       "    .dataframe tbody tr th:only-of-type {\n",
       "        vertical-align: middle;\n",
       "    }\n",
       "\n",
       "    .dataframe tbody tr th {\n",
       "        vertical-align: top;\n",
       "    }\n",
       "\n",
       "    .dataframe thead th {\n",
       "        text-align: right;\n",
       "    }\n",
       "</style>\n",
       "<table border=\"1\" class=\"dataframe\">\n",
       "  <thead>\n",
       "    <tr style=\"text-align: right;\">\n",
       "      <th></th>\n",
       "      <th>item_id</th>\n",
       "      <th>properties</th>\n",
       "    </tr>\n",
       "  </thead>\n",
       "  <tbody>\n",
       "    <tr>\n",
       "      <th>0</th>\n",
       "      <td>5121</td>\n",
       "      <td>Terrace (Hotel)|Lift|Childcare|From 3 Stars|Ra...</td>\n",
       "    </tr>\n",
       "    <tr>\n",
       "      <th>1</th>\n",
       "      <td>5555</td>\n",
       "      <td>Terrace (Hotel)|Lift|From 3 Stars|Radio|From 4...</td>\n",
       "    </tr>\n",
       "    <tr>\n",
       "      <th>2</th>\n",
       "      <td>5684</td>\n",
       "      <td>Terrace (Hotel)|Lift|From 3 Stars|Radio|4 Star...</td>\n",
       "    </tr>\n",
       "    <tr>\n",
       "      <th>3</th>\n",
       "      <td>5777</td>\n",
       "      <td>Lift|Childcare|From 3 Stars|Radio|4 Star|From ...</td>\n",
       "    </tr>\n",
       "    <tr>\n",
       "      <th>4</th>\n",
       "      <td>6044</td>\n",
       "      <td>Terrace (Hotel)|Childcare|From 3 Stars|Radio|B...</td>\n",
       "    </tr>\n",
       "  </tbody>\n",
       "</table>\n",
       "</div>"
      ],
      "text/plain": [
       "   item_id                                         properties\n",
       "0     5121  Terrace (Hotel)|Lift|Childcare|From 3 Stars|Ra...\n",
       "1     5555  Terrace (Hotel)|Lift|From 3 Stars|Radio|From 4...\n",
       "2     5684  Terrace (Hotel)|Lift|From 3 Stars|Radio|4 Star...\n",
       "3     5777  Lift|Childcare|From 3 Stars|Radio|4 Star|From ...\n",
       "4     6044  Terrace (Hotel)|Childcare|From 3 Stars|Radio|B..."
      ]
     },
     "execution_count": 51,
     "metadata": {},
     "output_type": "execute_result"
    }
   ],
   "source": [
    "item_metadata.head()"
   ]
  },
  {
   "cell_type": "code",
   "execution_count": 53,
   "metadata": {
    "ExecuteTime": {
     "end_time": "2019-03-07T06:36:02.718351Z",
     "start_time": "2019-03-07T06:36:02.528164Z"
    }
   },
   "outputs": [
    {
     "name": "stdout",
     "output_type": "stream",
     "text": [
      "item metadata는 item_id로 유니크한 값을 갖는다\n"
     ]
    }
   ],
   "source": [
    "print('item metadata는 item_id로 유니크한 값을 갖는다') if len(item_metadata.item_id.unique()) == len(item_metadata) else print('not unique')"
   ]
  },
  {
   "cell_type": "code",
   "execution_count": 54,
   "metadata": {
    "ExecuteTime": {
     "end_time": "2019-03-07T06:37:54.755879Z",
     "start_time": "2019-03-07T06:37:51.810264Z"
    }
   },
   "outputs": [
    {
     "data": {
      "text/plain": [
       "Counter({1: 37,\n",
       "         2: 606,\n",
       "         4: 4057,\n",
       "         3: 1996,\n",
       "         5: 7738,\n",
       "         8: 9911,\n",
       "         9: 10877,\n",
       "         13: 10842,\n",
       "         12: 10983,\n",
       "         7: 9834,\n",
       "         11: 11474,\n",
       "         10: 11682,\n",
       "         6: 10468,\n",
       "         14: 10599,\n",
       "         17: 12119,\n",
       "         20: 13452,\n",
       "         18: 12395,\n",
       "         21: 13968,\n",
       "         19: 12968,\n",
       "         22: 14170,\n",
       "         16: 11427,\n",
       "         15: 10930,\n",
       "         31: 13083,\n",
       "         29: 14034,\n",
       "         24: 14562,\n",
       "         32: 12777,\n",
       "         30: 13550,\n",
       "         23: 14369,\n",
       "         44: 7758,\n",
       "         25: 14707,\n",
       "         28: 14088,\n",
       "         63: 2116,\n",
       "         35: 11421,\n",
       "         34: 11861,\n",
       "         52: 4978,\n",
       "         55: 3987,\n",
       "         49: 5914,\n",
       "         58: 3255,\n",
       "         33: 12389,\n",
       "         85: 237,\n",
       "         60: 2702,\n",
       "         59: 2962,\n",
       "         51: 5332,\n",
       "         45: 7233,\n",
       "         27: 14352,\n",
       "         41: 8686,\n",
       "         38: 10104,\n",
       "         26: 14528,\n",
       "         53: 4548,\n",
       "         42: 8498,\n",
       "         37: 10346,\n",
       "         79: 501,\n",
       "         50: 5566,\n",
       "         36: 10831,\n",
       "         82: 273,\n",
       "         61: 2541,\n",
       "         46: 7072,\n",
       "         43: 8048,\n",
       "         65: 1784,\n",
       "         47: 6604,\n",
       "         39: 9582,\n",
       "         70: 1180,\n",
       "         73: 934,\n",
       "         56: 3833,\n",
       "         40: 9234,\n",
       "         72: 965,\n",
       "         62: 2310,\n",
       "         64: 1931,\n",
       "         66: 1618,\n",
       "         54: 4429,\n",
       "         74: 813,\n",
       "         48: 6314,\n",
       "         67: 1547,\n",
       "         57: 3465,\n",
       "         71: 1036,\n",
       "         78: 497,\n",
       "         69: 1207,\n",
       "         77: 581,\n",
       "         91: 96,\n",
       "         101: 16,\n",
       "         92: 71,\n",
       "         68: 1394,\n",
       "         84: 249,\n",
       "         93: 62,\n",
       "         86: 224,\n",
       "         76: 664,\n",
       "         81: 406,\n",
       "         87: 193,\n",
       "         80: 414,\n",
       "         75: 729,\n",
       "         83: 326,\n",
       "         97: 31,\n",
       "         88: 172,\n",
       "         89: 126,\n",
       "         109: 4,\n",
       "         107: 4,\n",
       "         90: 102,\n",
       "         100: 18,\n",
       "         108: 1,\n",
       "         98: 30,\n",
       "         95: 34,\n",
       "         103: 7,\n",
       "         94: 59,\n",
       "         96: 42,\n",
       "         102: 6,\n",
       "         104: 7,\n",
       "         99: 16,\n",
       "         105: 7,\n",
       "         112: 1,\n",
       "         110: 2,\n",
       "         106: 3})"
      ]
     },
     "execution_count": 54,
     "metadata": {},
     "output_type": "execute_result"
    }
   ],
   "source": [
    "item_prop_count = [] #properties 개수 저장\n",
    "\n",
    "\n",
    "for val in item_metadata.properties.value_counts().index :\n",
    "    item_prop_count.append(val.count('|') + 1)\n",
    "    \n",
    "Counter(item_prop_count)"
   ]
  }
 ],
 "metadata": {
  "hide_input": false,
  "kernelspec": {
   "display_name": "Python 3",
   "language": "python",
   "name": "python3"
  },
  "language_info": {
   "codemirror_mode": {
    "name": "ipython",
    "version": 3
   },
   "file_extension": ".py",
   "mimetype": "text/x-python",
   "name": "python",
   "nbconvert_exporter": "python",
   "pygments_lexer": "ipython3",
   "version": "3.7.1"
  },
  "notify_time": "30",
  "toc": {
   "base_numbering": 1,
   "nav_menu": {},
   "number_sections": true,
   "sideBar": true,
   "skip_h1_title": false,
   "title_cell": "Table of Contents",
   "title_sidebar": "Contents",
   "toc_cell": false,
   "toc_position": {},
   "toc_section_display": true,
   "toc_window_display": true
  }
 },
 "nbformat": 4,
 "nbformat_minor": 2
}
