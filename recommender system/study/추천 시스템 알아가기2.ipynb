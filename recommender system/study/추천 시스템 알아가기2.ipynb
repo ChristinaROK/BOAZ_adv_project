{
 "cells": [
  {
   "cell_type": "markdown",
   "metadata": {},
   "source": [
    "https://www.fun-coding.org/recommend_basic2.html"
   ]
  },
  {
   "cell_type": "markdown",
   "metadata": {},
   "source": [
    "# 1. Recommendation 기본 알고리즘"
   ]
  },
  {
   "cell_type": "markdown",
   "metadata": {},
   "source": [
    "## 1-1. Popularity, High Rated Based\n",
    "- 인기도, 높은 평점을 갖는 item 추천\n",
    "- 모두에게 동일한 item 추천"
   ]
  },
  {
   "cell_type": "code",
   "execution_count": 23,
   "metadata": {
    "ExecuteTime": {
     "end_time": "2019-02-25T12:12:34.530694Z",
     "start_time": "2019-02-25T12:12:34.519253Z"
    }
   },
   "outputs": [],
   "source": [
    "ratings={\n",
    "     'Dave':{'달콤한인생':5,'범죄도시':3,'샤인':3},\n",
    "     'David':{'달콤한인생':5,'범죄도시':1,'샤인':4},\n",
    "     'Alex':{'달콤한인생':0,'범죄도시':4,'샤인':5},\n",
    "     'Andy':{'달콤한인생':2,'범죄도시':1,'샤인':5}\n",
    "}"
   ]
  },
  {
   "cell_type": "markdown",
   "metadata": {},
   "source": [
    "#### 평점이 가장 높은 두 영화 출력"
   ]
  },
  {
   "cell_type": "code",
   "execution_count": 21,
   "metadata": {
    "ExecuteTime": {
     "end_time": "2019-02-25T12:12:21.386864Z",
     "start_time": "2019-02-25T12:12:21.378834Z"
    }
   },
   "outputs": [
    {
     "name": "stdout",
     "output_type": "stream",
     "text": [
      "Dave\n",
      "David\n",
      "Alex\n",
      "Andy\n"
     ]
    }
   ],
   "source": [
    "for rating in ratings :\n",
    "    print(rating)"
   ]
  },
  {
   "cell_type": "code",
   "execution_count": 22,
   "metadata": {
    "ExecuteTime": {
     "end_time": "2019-02-25T12:12:22.056402Z",
     "start_time": "2019-02-25T12:12:22.047549Z"
    }
   },
   "outputs": [
    {
     "name": "stdout",
     "output_type": "stream",
     "text": [
      "달콤한인생\n",
      "범죄도시\n",
      "샤인\n",
      "달콤한인생\n",
      "범죄도시\n",
      "샤인\n",
      "달콤한인생\n",
      "범죄도시\n",
      "샤인\n",
      "달콤한인생\n",
      "범죄도시\n",
      "샤인\n"
     ]
    }
   ],
   "source": [
    "for rating in ratings :\n",
    "    for movie in ratings[rating].keys() :\n",
    "        print(movie)"
   ]
  },
  {
   "cell_type": "code",
   "execution_count": 6,
   "metadata": {
    "ExecuteTime": {
     "end_time": "2019-02-25T09:13:36.550271Z",
     "start_time": "2019-02-25T09:13:36.540333Z"
    }
   },
   "outputs": [],
   "source": [
    "movie_dict = dict()\n",
    "for rating in ratings :\n",
    "    for movie in ratings[rating].keys() : #movie 는 각 영화 제목\n",
    "        if movie not in movie_dict :\n",
    "            movie_dict[movie] = ratings[rating][movie] #없으면 평점과 함께 추가하고\n",
    "        else :\n",
    "            movie_dict[movie] = (movie_dict[movie] + ratings[rating][movie]) #있으면 있는 평점에 새로운 평점을 더함\n",
    "            \n",
    "for movie in ratings[rating].keys() :\n",
    "    movie_dict[movie] = movie_dict[movie]/4 #점수의 평균을 냄"
   ]
  },
  {
   "cell_type": "code",
   "execution_count": 7,
   "metadata": {
    "ExecuteTime": {
     "end_time": "2019-02-25T09:13:40.002599Z",
     "start_time": "2019-02-25T09:13:39.986641Z"
    }
   },
   "outputs": [
    {
     "data": {
      "text/plain": [
       "{'달콤한인생': 3.0, '범죄도시': 2.25, '샤인': 4.25}"
      ]
     },
     "execution_count": 7,
     "metadata": {},
     "output_type": "execute_result"
    }
   ],
   "source": [
    "movie_dict"
   ]
  },
  {
   "cell_type": "code",
   "execution_count": 8,
   "metadata": {
    "ExecuteTime": {
     "end_time": "2019-02-25T09:13:54.088167Z",
     "start_time": "2019-02-25T09:13:54.084177Z"
    }
   },
   "outputs": [],
   "source": [
    "import operator"
   ]
  },
  {
   "cell_type": "code",
   "execution_count": 10,
   "metadata": {
    "ExecuteTime": {
     "end_time": "2019-02-25T09:14:50.050278Z",
     "start_time": "2019-02-25T09:14:50.044295Z"
    }
   },
   "outputs": [
    {
     "data": {
      "text/plain": [
       "[('샤인', 4.25), ('달콤한인생', 3.0), ('범죄도시', 2.25)]"
      ]
     },
     "execution_count": 10,
     "metadata": {},
     "output_type": "execute_result"
    }
   ],
   "source": [
    "sorted_x = sorted(movie_dict.items(), key = operator.itemgetter(1), reverse = True) #sorting\n",
    "sorted_x"
   ]
  },
  {
   "cell_type": "markdown",
   "metadata": {},
   "source": [
    "## 1-2. Collaborative Filtering\n",
    "1. 데이터 구성 : 평점을 사용하여 사용자-항목 레이팅 행렬을 만든다.\n",
    "2. 유사도 계산\n",
    "3. 예측값 및 추천 목록 생성"
   ]
  },
  {
   "cell_type": "markdown",
   "metadata": {},
   "source": [
    "### 1. 데이터 구성"
   ]
  },
  {
   "cell_type": "code",
   "execution_count": 17,
   "metadata": {
    "ExecuteTime": {
     "end_time": "2019-02-25T09:20:53.737864Z",
     "start_time": "2019-02-25T09:20:53.732881Z"
    }
   },
   "outputs": [
    {
     "data": {
      "text/plain": [
       "{'Dave': {'달콤한인생': 5, '범죄도시': 3, '샤인': 3},\n",
       " 'David': {'달콤한인생': 5, '범죄도시': 1, '샤인': 4},\n",
       " 'Alex': {'달콤한인생': 0, '범죄도시': 4, '샤인': 5},\n",
       " 'Andy': {'달콤한인생': 2, '범죄도시': 1, '샤인': 5}}"
      ]
     },
     "execution_count": 17,
     "metadata": {},
     "output_type": "execute_result"
    }
   ],
   "source": [
    "ratings"
   ]
  },
  {
   "cell_type": "code",
   "execution_count": 11,
   "metadata": {
    "ExecuteTime": {
     "end_time": "2019-02-25T09:17:29.267877Z",
     "start_time": "2019-02-25T09:17:29.260894Z"
    }
   },
   "outputs": [
    {
     "data": {
      "text/plain": [
       "{'달콤한인생': 5, '범죄도시': 3, '샤인': 3}"
      ]
     },
     "execution_count": 11,
     "metadata": {},
     "output_type": "execute_result"
    }
   ],
   "source": [
    "ratings.get('Dave')"
   ]
  },
  {
   "cell_type": "code",
   "execution_count": 13,
   "metadata": {
    "ExecuteTime": {
     "end_time": "2019-02-25T09:19:07.906781Z",
     "start_time": "2019-02-25T09:19:07.900796Z"
    }
   },
   "outputs": [
    {
     "data": {
      "text/plain": [
       "{'달콤한인생': 5, '범죄도시': 3, '샤인': 3}"
      ]
     },
     "execution_count": 13,
     "metadata": {},
     "output_type": "execute_result"
    }
   ],
   "source": [
    "ratings['Dave']"
   ]
  },
  {
   "cell_type": "markdown",
   "metadata": {},
   "source": [
    "### 2. 유사도 계산(피타고라스 거리 계산)"
   ]
  },
  {
   "cell_type": "code",
   "execution_count": 16,
   "metadata": {
    "ExecuteTime": {
     "end_time": "2019-02-25T09:20:19.057771Z",
     "start_time": "2019-02-25T09:20:19.052748Z"
    }
   },
   "outputs": [],
   "source": [
    "import math\n",
    "def sim(i,j) :\n",
    "    return math.sqrt(pow(i,2) + pow(j,2))"
   ]
  },
  {
   "cell_type": "markdown",
   "metadata": {},
   "source": [
    "#### Alex가 평가한 범죄의 도시, 샤인을 모두 평가한 사용자와 유사도 구하기"
   ]
  },
  {
   "cell_type": "code",
   "execution_count": 19,
   "metadata": {
    "ExecuteTime": {
     "end_time": "2019-02-25T09:24:57.995204Z",
     "start_time": "2019-02-25T09:24:57.989222Z"
    }
   },
   "outputs": [
    {
     "data": {
      "text/plain": [
       "{'달콤한인생': 0, '범죄도시': 4, '샤인': 5}"
      ]
     },
     "execution_count": 19,
     "metadata": {},
     "output_type": "execute_result"
    }
   ],
   "source": [
    "ratings['Alex']"
   ]
  },
  {
   "cell_type": "code",
   "execution_count": 20,
   "metadata": {
    "ExecuteTime": {
     "end_time": "2019-02-25T09:26:24.482939Z",
     "start_time": "2019-02-25T09:26:24.475958Z"
    }
   },
   "outputs": [
    {
     "name": "stdout",
     "output_type": "stream",
     "text": [
      "Dave  :  2.23606797749979\n",
      "David  :  3.1622776601683795\n",
      "Andy  :  3.0\n"
     ]
    }
   ],
   "source": [
    "for name in ratings :\n",
    "    if name != 'Alex' :\n",
    "        var1 = ratings['Alex']['범죄도시'] - ratings[name]['범죄도시']\n",
    "        var2 = ratings['Alex']['샤인'] - ratings[name]['샤인']\n",
    "        print(name, \" : \", sim(var1, var2))"
   ]
  },
  {
   "cell_type": "markdown",
   "metadata": {},
   "source": [
    "#### 0~1로 스케일. 1에 가까울수록 유사도 높음"
   ]
  },
  {
   "cell_type": "code",
   "execution_count": 21,
   "metadata": {
    "ExecuteTime": {
     "end_time": "2019-02-25T09:28:36.795268Z",
     "start_time": "2019-02-25T09:28:36.788285Z"
    }
   },
   "outputs": [
    {
     "name": "stdout",
     "output_type": "stream",
     "text": [
      "Dave  :  0.4472135954999579\n",
      "David  :  0.31622776601683794\n",
      "Andy  :  0.3333333333333333\n"
     ]
    }
   ],
   "source": [
    "for name in ratings :\n",
    "    if name != 'Alex' :\n",
    "        var1 = ratings['Alex']['범죄도시'] - ratings[name]['범죄도시']\n",
    "        var2 = ratings['Alex']['샤인'] - ratings[name]['샤인']\n",
    "        print(name, \" : \", 1/sim(var1, var2))"
   ]
  },
  {
   "cell_type": "markdown",
   "metadata": {},
   "source": [
    "#### Dave가 평가한 범죄의 도시, 샤인을 모두 평가한 사용자와 유사도 구하기"
   ]
  },
  {
   "cell_type": "code",
   "execution_count": 22,
   "metadata": {
    "ExecuteTime": {
     "end_time": "2019-02-25T09:29:28.067200Z",
     "start_time": "2019-02-25T09:29:28.060220Z"
    }
   },
   "outputs": [
    {
     "name": "stdout",
     "output_type": "stream",
     "text": [
      "David  :  0.4472135954999579\n",
      "Alex  :  0.4472135954999579\n",
      "Andy  :  0.35355339059327373\n"
     ]
    }
   ],
   "source": [
    "for name in ratings :\n",
    "    if name != 'Dave' :\n",
    "        var1 = ratings['Dave']['범죄도시'] - ratings[name]['범죄도시']\n",
    "        var2 = ratings['Dave']['샤인'] - ratings[name]['샤인']\n",
    "        print(name, \" : \", 1/sim(var1, var2))"
   ]
  },
  {
   "cell_type": "markdown",
   "metadata": {},
   "source": [
    "# 2.Similarity 계산 방식"
   ]
  },
  {
   "cell_type": "markdown",
   "metadata": {},
   "source": [
    "### 2-1. Mean Squared Difference Similarity\n",
    "- user based\n",
    "$$\\text{msd}(u, v) = \\frac{1}{|I_{uv}|} \\cdot \\sum\\limits_{i \\in I_{uv}} (r_{ui} - r_{vi})^2$$\n",
    "\n",
    "$$\\begin{split}\\text{msd_sim}(u, v) &= \\frac{1}{\\text{msd}(u, v) + 1}\\end{split}$$\n",
    "\n",
    "\n",
    "- item based\n",
    "$$\\text{msd}(i, j) = \\frac{1}{|U_{ij}|} \\cdot \\sum\\limits_{u \\in U_{ij}} (r_{ui} - r_{uj})^2$$\n",
    "\n",
    "$$\\begin{split}\\text{msd_sim}(i, j) &= \\frac{1}{\\text{msd}(i, j) + 1}\\end{split}$$\n"
   ]
  },
  {
   "cell_type": "code",
   "execution_count": 4,
   "metadata": {
    "ExecuteTime": {
     "end_time": "2019-02-25T11:54:20.830443Z",
     "start_time": "2019-02-25T11:54:20.814789Z"
    }
   },
   "outputs": [
    {
     "data": {
      "text/plain": [
       "{'Dave': {'달콤한인생': 5, '범죄도시': 3, '샤인': 3},\n",
       " 'David': {'달콤한인생': 5, '범죄도시': 1, '샤인': 4},\n",
       " 'Alex': {'달콤한인생': 0, '범죄도시': 4, '샤인': 5},\n",
       " 'Andy': {'달콤한인생': 2, '범죄도시': 1, '샤인': 5}}"
      ]
     },
     "execution_count": 4,
     "metadata": {},
     "output_type": "execute_result"
    }
   ],
   "source": [
    "ratings"
   ]
  },
  {
   "cell_type": "code",
   "execution_count": 10,
   "metadata": {
    "ExecuteTime": {
     "end_time": "2019-02-25T11:57:49.249047Z",
     "start_time": "2019-02-25T11:57:49.239574Z"
    }
   },
   "outputs": [
    {
     "name": "stdout",
     "output_type": "stream",
     "text": [
      "dict_items([('달콤한인생', 5), ('범죄도시', 3), ('샤인', 3)])\n",
      "dict_keys(['달콤한인생', '범죄도시', '샤인'])\n",
      "dict_values([5, 3, 3])\n",
      "dict_items([('달콤한인생', 5), ('범죄도시', 1), ('샤인', 4)])\n",
      "dict_keys(['달콤한인생', '범죄도시', '샤인'])\n",
      "dict_values([5, 1, 4])\n",
      "dict_items([('달콤한인생', 0), ('범죄도시', 4), ('샤인', 5)])\n",
      "dict_keys(['달콤한인생', '범죄도시', '샤인'])\n",
      "dict_values([0, 4, 5])\n",
      "dict_items([('달콤한인생', 2), ('범죄도시', 1), ('샤인', 5)])\n",
      "dict_keys(['달콤한인생', '범죄도시', '샤인'])\n",
      "dict_values([2, 1, 5])\n"
     ]
    }
   ],
   "source": [
    "for i in ratings :\n",
    "    print(ratings[i].items())\n",
    "    print(ratings[i].keys())\n",
    "    print(ratings[i].values())"
   ]
  },
  {
   "cell_type": "code",
   "execution_count": 34,
   "metadata": {
    "ExecuteTime": {
     "end_time": "2019-02-25T12:25:05.086733Z",
     "start_time": "2019-02-25T12:25:05.077344Z"
    }
   },
   "outputs": [],
   "source": [
    "#user-based\n",
    "#name1, name2 사람의 MSD 계산\n",
    "def sim_msd_user(data, name1, name2) :\n",
    "    sum =0 ; count=0\n",
    "    \n",
    "    #name1과 name2가 모두 관람한 모든 영화에 대하여\n",
    "    for movies in data[name1] :\n",
    "        if (data[name1][movies]>0) and (data[name2][movies]>0) : #평점을 내렸고, 같은 영화를 본 경우만\n",
    "            sum += pow(data[name1][movies]- data[name2][movies], 2)\n",
    "            count+=1\n",
    "            \n",
    "    return 1 / ( 1 + (sum / count) )\n",
    "\n",
    "\n",
    "#item-based\n",
    "#movie1, movie2 MSD 계산\n",
    "def sim_msd_item(data, movie1, movie2) :\n",
    "    sum =0; count=0\n",
    "    \n",
    "    #movie1과 movie2를 모두 평을 내린 모든 사람에 대하여\n",
    "    for name in data :\n",
    "        if (data[name][movie1] > 0) and (data[name][movie2] > 0) : #movie1, movie2 영화의 평점을 내린 경우만\n",
    "            sum+=pow(data[name][movie1] - data[name][movie2], 2)\n",
    "            count+=1\n",
    "            \n",
    "    return 1 / ( 1 + (sum / count) )"
   ]
  },
  {
   "cell_type": "code",
   "execution_count": 35,
   "metadata": {
    "ExecuteTime": {
     "end_time": "2019-02-25T12:25:05.388074Z",
     "start_time": "2019-02-25T12:25:05.380533Z"
    }
   },
   "outputs": [
    {
     "data": {
      "text/plain": [
       "0.15"
      ]
     },
     "execution_count": 35,
     "metadata": {},
     "output_type": "execute_result"
    }
   ],
   "source": [
    "sim_msd_user(ratings, 'Dave','Andy')"
   ]
  },
  {
   "cell_type": "code",
   "execution_count": 36,
   "metadata": {
    "ExecuteTime": {
     "end_time": "2019-02-25T12:25:05.717849Z",
     "start_time": "2019-02-25T12:25:05.711470Z"
    }
   },
   "outputs": [
    {
     "data": {
      "text/plain": [
       "0.13333333333333333"
      ]
     },
     "execution_count": 36,
     "metadata": {},
     "output_type": "execute_result"
    }
   ],
   "source": [
    "sim_msd_item(ratings, '범죄도시', '샤인')"
   ]
  },
  {
   "cell_type": "markdown",
   "metadata": {},
   "source": [
    "### 2-2. Cosine Similarity\n",
    "- user based\n",
    "$$\\text{cosine_sim}(u, v) = \\frac{\n",
    "\\sum\\limits_{i \\in I_{uv}} r_{ui} \\cdot r_{vi}}\n",
    "{\\sqrt{\\sum\\limits_{i \\in I_{uv}} r_{ui}^2} \\cdot\n",
    "\\sqrt{\\sum\\limits_{i \\in I_{uv}} r_{vi}^2}\n",
    "}$$\n",
    "- item based\n",
    "$$\\text{cosine_sim}(i, j) = \\frac{\n",
    "\\sum\\limits_{u \\in U_{ij}} r_{ui} \\cdot r_{uj}}\n",
    "{\\sqrt{\\sum\\limits_{u \\in U_{ij}} r_{ui}^2} \\cdot\n",
    "\\sqrt{\\sum\\limits_{u \\in U_{ij}} r_{uj}^2}\n",
    "}$$"
   ]
  },
  {
   "cell_type": "code",
   "execution_count": 19,
   "metadata": {
    "ExecuteTime": {
     "end_time": "2019-02-25T12:05:05.733019Z",
     "start_time": "2019-02-25T12:05:05.729305Z"
    }
   },
   "outputs": [],
   "source": [
    "import math"
   ]
  },
  {
   "cell_type": "code",
   "execution_count": 43,
   "metadata": {
    "ExecuteTime": {
     "end_time": "2019-02-25T12:27:08.913569Z",
     "start_time": "2019-02-25T12:27:08.902126Z"
    }
   },
   "outputs": [],
   "source": [
    "#user-based\n",
    "#name1, name2 사람의 cosine similarity 계산\n",
    "def sim_cosine_user(data, name1, name2) :\n",
    "    s1 = 0; s2 =0; ss=0\n",
    "    \n",
    "    for movies in data[name1] :\n",
    "        #if movies in data[name2]:\n",
    "        if (data[name1][movies]>0) and (data[name2][movies]>0) : #평점을 내렸고, 같은 영화를 본 경우만\n",
    "            s1 += pow(data[name1][movies], 2)\n",
    "            s2 += pow(data[name2][movies], 2)\n",
    "            ss += data[name1][movies]*data[name2][movies]\n",
    "            \n",
    "            return ss / (math.sqrt(s1)*math.sqrt(s2))\n",
    "            \n",
    "            \n",
    "#item-based\n",
    "#movie1, movie2  cosine similarity 계산\n",
    "def simsim_cosine_item(data, movie1, movie2) :\n",
    "    s1 = 0; s2 =0; ss=0\n",
    "    \n",
    "    for name in data :\n",
    "        if (data[name][movie1] > 0) and (data[name][movie2] > 0) : #movie1, movie2 영화의 평점을 내린 경우만\n",
    "            s1 += pow(data[name][movie1], 2)\n",
    "            s2 += pow(data[name][movie2], 2)\n",
    "            ss += data[name][movie1] * data[name][movie2]\n",
    "            \n",
    "            return ss / (math.sqrt(s1) * math.sqrt(s2))"
   ]
  },
  {
   "cell_type": "code",
   "execution_count": 30,
   "metadata": {
    "ExecuteTime": {
     "end_time": "2019-02-25T12:21:17.364980Z",
     "start_time": "2019-02-25T12:21:17.357425Z"
    }
   },
   "outputs": [
    {
     "data": {
      "text/plain": [
       "{'Dave': {'달콤한인생': 5, '범죄도시': 3, '샤인': 3},\n",
       " 'David': {'달콤한인생': 5, '범죄도시': 1, '샤인': 4},\n",
       " 'Alex': {'달콤한인생': 0, '범죄도시': 4, '샤인': 5},\n",
       " 'Andy': {'달콤한인생': 2, '범죄도시': 1, '샤인': 5}}"
      ]
     },
     "execution_count": 30,
     "metadata": {},
     "output_type": "execute_result"
    }
   ],
   "source": [
    "ratings"
   ]
  },
  {
   "cell_type": "code",
   "execution_count": 44,
   "metadata": {
    "ExecuteTime": {
     "end_time": "2019-02-25T12:27:10.863623Z",
     "start_time": "2019-02-25T12:27:10.857187Z"
    }
   },
   "outputs": [
    {
     "data": {
      "text/plain": [
       "1.0"
      ]
     },
     "execution_count": 44,
     "metadata": {},
     "output_type": "execute_result"
    }
   ],
   "source": [
    "#?\n",
    "sim_cosine_user(ratings, 'Dave','David')"
   ]
  },
  {
   "cell_type": "code",
   "execution_count": 45,
   "metadata": {
    "ExecuteTime": {
     "end_time": "2019-02-25T12:27:36.600048Z",
     "start_time": "2019-02-25T12:27:36.593280Z"
    }
   },
   "outputs": [
    {
     "data": {
      "text/plain": [
       "1.0"
      ]
     },
     "execution_count": 45,
     "metadata": {},
     "output_type": "execute_result"
    }
   ],
   "source": [
    "simsim_cosine_item(ratings, '달콤한인생','범죄도시')"
   ]
  }
 ],
 "metadata": {
  "hide_input": false,
  "kernelspec": {
   "display_name": "Python 3",
   "language": "python",
   "name": "python3"
  },
  "language_info": {
   "codemirror_mode": {
    "name": "ipython",
    "version": 3
   },
   "file_extension": ".py",
   "mimetype": "text/x-python",
   "name": "python",
   "nbconvert_exporter": "python",
   "pygments_lexer": "ipython3",
   "version": "3.7.1"
  },
  "latex_envs": {
   "LaTeX_envs_menu_present": true,
   "autoclose": false,
   "autocomplete": true,
   "bibliofile": "biblio.bib",
   "cite_by": "apalike",
   "current_citInitial": 1,
   "eqLabelWithNumbers": true,
   "eqNumInitial": 1,
   "hotkeys": {
    "equation": "Ctrl-E",
    "itemize": "Ctrl-I"
   },
   "labels_anchors": false,
   "latex_user_defs": false,
   "report_style_numbering": false,
   "user_envs_cfg": false
  }
 },
 "nbformat": 4,
 "nbformat_minor": 2
}
