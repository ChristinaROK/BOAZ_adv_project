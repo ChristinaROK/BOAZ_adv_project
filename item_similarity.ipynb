{
  "nbformat": 4,
  "nbformat_minor": 0,
  "metadata": {
    "colab": {
      "name": "item similarity.ipynb",
      "version": "0.3.2",
      "provenance": [],
      "include_colab_link": true
    },
    "kernelspec": {
      "name": "python3",
      "display_name": "Python 3"
    },
    "accelerator": "GPU"
  },
  "cells": [
    {
      "cell_type": "markdown",
      "metadata": {
        "id": "view-in-github",
        "colab_type": "text"
      },
      "source": [
        "<a href=\"https://colab.research.google.com/github/ChristinaROK/BOAZ_adv_project/blob/master/item_similarity.ipynb\" target=\"_parent\"><img src=\"https://colab.research.google.com/assets/colab-badge.svg\" alt=\"Open In Colab\"/></a>"
      ]
    },
    {
      "metadata": {
        "id": "B818IiFMbu90",
        "colab_type": "code",
        "colab": {}
      },
      "cell_type": "code",
      "source": [
        "import pandas as pd\n",
        "import numpy as np\n",
        "import os\n",
        "import sys"
      ],
      "execution_count": 0,
      "outputs": []
    },
    {
      "metadata": {
        "id": "ViYd3VbNmPJj",
        "colab_type": "text"
      },
      "cell_type": "markdown",
      "source": [
        "# colab 사양 확인하기 "
      ]
    },
    {
      "metadata": {
        "id": "R06bUuEciFeG",
        "colab_type": "code",
        "outputId": "a9fd81d5-99dc-4744-f33c-7480f58a9b00",
        "colab": {
          "base_uri": "https://localhost:8080/",
          "height": 35
        }
      },
      "cell_type": "code",
      "source": [
        "sys.version_info"
      ],
      "execution_count": 0,
      "outputs": [
        {
          "output_type": "execute_result",
          "data": {
            "text/plain": [
              "sys.version_info(major=3, minor=6, micro=7, releaselevel='final', serial=0)"
            ]
          },
          "metadata": {
            "tags": []
          },
          "execution_count": 4
        }
      ]
    },
    {
      "metadata": {
        "id": "BodSurf4iR8X",
        "colab_type": "code",
        "colab": {}
      },
      "cell_type": "code",
      "source": [
        "import platform"
      ],
      "execution_count": 0,
      "outputs": []
    },
    {
      "metadata": {
        "id": "8QICCE1iiV_6",
        "colab_type": "code",
        "outputId": "fe174a76-327a-41a2-e30d-d99464fdb2cf",
        "colab": {
          "base_uri": "https://localhost:8080/",
          "height": 35
        }
      },
      "cell_type": "code",
      "source": [
        "platform.platform()"
      ],
      "execution_count": 0,
      "outputs": [
        {
          "output_type": "execute_result",
          "data": {
            "text/plain": [
              "'Linux-4.14.79+-x86_64-with-Ubuntu-18.04-bionic'"
            ]
          },
          "metadata": {
            "tags": []
          },
          "execution_count": 8
        }
      ]
    },
    {
      "metadata": {
        "id": "ZUB6FR49ih9N",
        "colab_type": "code",
        "outputId": "ffe0dbf4-d5db-4f4c-c3ca-c4617fc9fc71",
        "colab": {
          "base_uri": "https://localhost:8080/",
          "height": 124
        }
      },
      "cell_type": "code",
      "source": [
        "# colab에서 구글 드라이브 권한 획득하기\n",
        "from google.colab import auth\n",
        "auth.authenticate_user()\n",
        "\n",
        "from google.colab import drive\n",
        "drive.mount('/content/gdrive')"
      ],
      "execution_count": 0,
      "outputs": [
        {
          "output_type": "stream",
          "text": [
            "Go to this URL in a browser: https://accounts.google.com/o/oauth2/auth?client_id=947318989803-6bn6qk8qdgf4n4g3pfee6491hc0brc4i.apps.googleusercontent.com&redirect_uri=urn%3Aietf%3Awg%3Aoauth%3A2.0%3Aoob&scope=email%20https%3A%2F%2Fwww.googleapis.com%2Fauth%2Fdocs.test%20https%3A%2F%2Fwww.googleapis.com%2Fauth%2Fdrive%20https%3A%2F%2Fwww.googleapis.com%2Fauth%2Fdrive.photos.readonly%20https%3A%2F%2Fwww.googleapis.com%2Fauth%2Fpeopleapi.readonly&response_type=code\n",
            "\n",
            "Enter your authorization code:\n",
            "··········\n",
            "Mounted at /content/gdrive\n"
          ],
          "name": "stdout"
        }
      ]
    },
    {
      "metadata": {
        "id": "38Sv0NOvlfSm",
        "colab_type": "code",
        "outputId": "0ed1dd92-42b1-4504-e8e4-d2b882494aad",
        "colab": {
          "base_uri": "https://localhost:8080/",
          "height": 973
        }
      },
      "cell_type": "code",
      "source": [
        "!cat /proc/cpuinfo"
      ],
      "execution_count": 0,
      "outputs": [
        {
          "output_type": "stream",
          "text": [
            "processor\t: 0\n",
            "vendor_id\t: GenuineIntel\n",
            "cpu family\t: 6\n",
            "model\t\t: 79\n",
            "model name\t: Intel(R) Xeon(R) CPU @ 2.20GHz\n",
            "stepping\t: 0\n",
            "microcode\t: 0x1\n",
            "cpu MHz\t\t: 2200.000\n",
            "cache size\t: 56320 KB\n",
            "physical id\t: 0\n",
            "siblings\t: 2\n",
            "core id\t\t: 0\n",
            "cpu cores\t: 1\n",
            "apicid\t\t: 0\n",
            "initial apicid\t: 0\n",
            "fpu\t\t: yes\n",
            "fpu_exception\t: yes\n",
            "cpuid level\t: 13\n",
            "wp\t\t: yes\n",
            "flags\t\t: fpu vme de pse tsc msr pae mce cx8 apic sep mtrr pge mca cmov pat pse36 clflush mmx fxsr sse sse2 ss ht syscall nx pdpe1gb rdtscp lm constant_tsc rep_good nopl xtopology nonstop_tsc cpuid tsc_known_freq pni pclmulqdq ssse3 fma cx16 pcid sse4_1 sse4_2 x2apic movbe popcnt aes xsave avx f16c rdrand hypervisor lahf_lm abm 3dnowprefetch invpcid_single pti ssbd ibrs ibpb stibp fsgsbase tsc_adjust bmi1 hle avx2 smep bmi2 erms invpcid rtm rdseed adx smap xsaveopt arat arch_capabilities\n",
            "bugs\t\t: cpu_meltdown spectre_v1 spectre_v2 spec_store_bypass l1tf\n",
            "bogomips\t: 4400.00\n",
            "clflush size\t: 64\n",
            "cache_alignment\t: 64\n",
            "address sizes\t: 46 bits physical, 48 bits virtual\n",
            "power management:\n",
            "\n",
            "processor\t: 1\n",
            "vendor_id\t: GenuineIntel\n",
            "cpu family\t: 6\n",
            "model\t\t: 79\n",
            "model name\t: Intel(R) Xeon(R) CPU @ 2.20GHz\n",
            "stepping\t: 0\n",
            "microcode\t: 0x1\n",
            "cpu MHz\t\t: 2200.000\n",
            "cache size\t: 56320 KB\n",
            "physical id\t: 0\n",
            "siblings\t: 2\n",
            "core id\t\t: 0\n",
            "cpu cores\t: 1\n",
            "apicid\t\t: 1\n",
            "initial apicid\t: 1\n",
            "fpu\t\t: yes\n",
            "fpu_exception\t: yes\n",
            "cpuid level\t: 13\n",
            "wp\t\t: yes\n",
            "flags\t\t: fpu vme de pse tsc msr pae mce cx8 apic sep mtrr pge mca cmov pat pse36 clflush mmx fxsr sse sse2 ss ht syscall nx pdpe1gb rdtscp lm constant_tsc rep_good nopl xtopology nonstop_tsc cpuid tsc_known_freq pni pclmulqdq ssse3 fma cx16 pcid sse4_1 sse4_2 x2apic movbe popcnt aes xsave avx f16c rdrand hypervisor lahf_lm abm 3dnowprefetch invpcid_single pti ssbd ibrs ibpb stibp fsgsbase tsc_adjust bmi1 hle avx2 smep bmi2 erms invpcid rtm rdseed adx smap xsaveopt arat arch_capabilities\n",
            "bugs\t\t: cpu_meltdown spectre_v1 spectre_v2 spec_store_bypass l1tf\n",
            "bogomips\t: 4400.00\n",
            "clflush size\t: 64\n",
            "cache_alignment\t: 64\n",
            "address sizes\t: 46 bits physical, 48 bits virtual\n",
            "power management:\n",
            "\n"
          ],
          "name": "stdout"
        }
      ]
    },
    {
      "metadata": {
        "id": "OvyzneMXl7Fm",
        "colab_type": "code",
        "outputId": "5ce16e93-3aed-40c0-d8c8-a99884c72b08",
        "colab": {
          "base_uri": "https://localhost:8080/",
          "height": 797
        }
      },
      "cell_type": "code",
      "source": [
        "!cat /proc/meminfo"
      ],
      "execution_count": 0,
      "outputs": [
        {
          "output_type": "stream",
          "text": [
            "MemTotal:       13335276 kB\n",
            "MemFree:          154568 kB\n",
            "MemAvailable:   10232920 kB\n",
            "Buffers:           73424 kB\n",
            "Cached:          7053536 kB\n",
            "SwapCached:            0 kB\n",
            "Active:          2922360 kB\n",
            "Inactive:        9888184 kB\n",
            "Active(anon):    2628408 kB\n",
            "Inactive(anon):      340 kB\n",
            "Active(file):     293952 kB\n",
            "Inactive(file):  9887844 kB\n",
            "Unevictable:           0 kB\n",
            "Mlocked:               0 kB\n",
            "SwapTotal:             0 kB\n",
            "SwapFree:              0 kB\n",
            "Dirty:               344 kB\n",
            "Writeback:             0 kB\n",
            "AnonPages:       5683656 kB\n",
            "Mapped:           177152 kB\n",
            "Shmem:               868 kB\n",
            "Slab:             252048 kB\n",
            "SReclaimable:     222300 kB\n",
            "SUnreclaim:        29748 kB\n",
            "KernelStack:        4608 kB\n",
            "PageTables:        16788 kB\n",
            "NFS_Unstable:          0 kB\n",
            "Bounce:                0 kB\n",
            "WritebackTmp:          0 kB\n",
            "CommitLimit:     6667636 kB\n",
            "Committed_AS:    7777080 kB\n",
            "VmallocTotal:   34359738367 kB\n",
            "VmallocUsed:           0 kB\n",
            "VmallocChunk:          0 kB\n",
            "AnonHugePages:         0 kB\n",
            "ShmemHugePages:        0 kB\n",
            "ShmemPmdMapped:        0 kB\n",
            "HugePages_Total:       0\n",
            "HugePages_Free:        0\n",
            "HugePages_Rsvd:        0\n",
            "HugePages_Surp:        0\n",
            "Hugepagesize:       2048 kB\n",
            "DirectMap4k:       61428 kB\n",
            "DirectMap2M:     4132864 kB\n",
            "DirectMap1G:    11534336 kB\n"
          ],
          "name": "stdout"
        }
      ]
    },
    {
      "metadata": {
        "id": "6iTbh6hsmLof",
        "colab_type": "text"
      },
      "cell_type": "markdown",
      "source": [
        "# Meta data Item Similarity"
      ]
    },
    {
      "metadata": {
        "id": "GEO1lXoPv5dW",
        "colab_type": "code",
        "colab": {}
      },
      "cell_type": "code",
      "source": [
        "from sklearn.feature_extraction.text import CountVectorizer"
      ],
      "execution_count": 0,
      "outputs": []
    },
    {
      "metadata": {
        "id": "sg_KNKTB1Tl-",
        "colab_type": "code",
        "colab": {}
      },
      "cell_type": "code",
      "source": [
        "meta = pd.read_csv('./gdrive/My Drive/data/item_metadata.csv')"
      ],
      "execution_count": 0,
      "outputs": []
    },
    {
      "metadata": {
        "id": "x5yl2MDBG6cA",
        "colab_type": "code",
        "colab": {}
      },
      "cell_type": "code",
      "source": [
        "prop = meta.properties"
      ],
      "execution_count": 0,
      "outputs": []
    },
    {
      "metadata": {
        "id": "Yf_js5-21W-i",
        "colab_type": "code",
        "colab": {}
      },
      "cell_type": "code",
      "source": [
        "tempt = [prop[0],prop[1]]"
      ],
      "execution_count": 0,
      "outputs": []
    },
    {
      "metadata": {
        "id": "aYOLexVC2_Ev",
        "colab_type": "code",
        "colab": {
          "base_uri": "https://localhost:8080/",
          "height": 55
        },
        "outputId": "ef1eb9ee-3e54-4e43-90e4-33f67b509c86"
      },
      "cell_type": "code",
      "source": [
        "print(tempt)"
      ],
      "execution_count": 42,
      "outputs": [
        {
          "output_type": "stream",
          "text": [
            "['Terrace (Hotel)|Lift|Childcare|From 3 Stars|Radio|Business Hotel|Restaurant|WiFi (Rooms)|3 Star|Openable Windows|Hotel Bar|Convention Hotel|Car Park|Accessible Hotel|Accessible Parking|Express Check-In / Check-Out|Sitting Area (Rooms)|From 2 Stars|Laundry Service|Computer with Internet|Pet Friendly|Hairdryer|Reception (24/7)|Porter|Family Friendly|Spa Hotel|Non-Smoking Rooms|Safe (Hotel)|Telephone|Conference Rooms|WiFi (Public Areas)|Ironing Board|Free WiFi (Combined)|Hiking Trail|Luxury Hotel|Pool Table|Central Heating|Satellite TV|Wheelchair Accessible|Cosmetic Mirror|Good Rating|Very Good Rating|Gym|Safe (Rooms)|Free WiFi (Public Areas)|Cable TV|Business Centre|Bike Rental|Free WiFi (Rooms)|Bathtub|Satisfactory Rating|Television|Desk|Hotel', 'Terrace (Hotel)|Lift|From 3 Stars|Radio|From 4 Stars|Business Hotel|Restaurant|Washing Machine|WiFi (Rooms)|Cot|Openable Windows|Hotel Bar|Convention Hotel|Car Park|Accessible Hotel|Accessible Parking|Swimming Pool (Indoor)|Express Check-In / Check-Out|Spa (Wellness Facility)|On-Site Boutique Shopping|From 2 Stars|Laundry Service|Bowling|Computer with Internet|Pet Friendly|Hairdryer|Health Retreat|Reception (24/7)|Porter|Room Service (24/7)|Singles|Family Friendly|Sauna|Non-Smoking Rooms|Excellent Rating|Safe (Hotel)|Telephone|Room Service|Conference Rooms|Fridge|WiFi (Public Areas)|Free WiFi (Combined)|Shower|Hiking Trail|Swimming Pool (Combined Filter)|Luxury Hotel|Pool Table|5 Star|Large Groups|Central Heating|Honeymoon|Satellite TV|Wheelchair Accessible|Air Conditioning|Hypoallergenic Rooms|Cosmetic Mirror|Good Rating|Very Good Rating|Gym|Romantic|Concierge|Safe (Rooms)|Fitness|Free WiFi (Public Areas)|Cable TV|Flatscreen TV|Business Centre|Bike Rental|Self Catering|Free WiFi (Rooms)|Bathtub|Satisfactory Rating|Television|Desk|Hypoallergenic Bedding|Tennis Court|Hotel']\n"
          ],
          "name": "stdout"
        }
      ]
    },
    {
      "metadata": {
        "id": "--a-LbnVHqnN",
        "colab_type": "text"
      },
      "cell_type": "markdown",
      "source": [
        "* ngram_range = (1,3) -> 문맥을 파악할 수 있다. "
      ]
    },
    {
      "metadata": {
        "id": "nkSTRggTwkar",
        "colab_type": "code",
        "colab": {}
      },
      "cell_type": "code",
      "source": [
        "vec = CountVectorizer(ngram_range = (1,3), min_df = 1)"
      ],
      "execution_count": 0,
      "outputs": []
    },
    {
      "metadata": {
        "id": "ySrA45PC16cJ",
        "colab_type": "code",
        "colab": {}
      },
      "cell_type": "code",
      "source": [
        "X=vec.fit_transform(tempt)"
      ],
      "execution_count": 0,
      "outputs": []
    },
    {
      "metadata": {
        "id": "XhEsf2jr2nIc",
        "colab_type": "code",
        "colab": {}
      },
      "cell_type": "code",
      "source": [
        "vec.get_feature_names()"
      ],
      "execution_count": 0,
      "outputs": []
    },
    {
      "metadata": {
        "id": "zcYQ_45622J7",
        "colab_type": "code",
        "colab": {
          "base_uri": "https://localhost:8080/",
          "height": 416
        },
        "outputId": "7ae7b354-62b4-4bd0-a915-01d31767c186"
      },
      "cell_type": "code",
      "source": [
        "X.toarray()[0]"
      ],
      "execution_count": 45,
      "outputs": [
        {
          "output_type": "execute_result",
          "data": {
            "text/plain": [
              "array([1, 1, 1, 0, 0, 0, 3, 0, 0, 1, 1, 1, 1, 1, 1, 0, 0, 0, 0, 1, 1, 1,\n",
              "       2, 1, 1, 0, 0, 1, 1, 1, 1, 1, 1, 1, 1, 0, 0, 0, 1, 1, 1, 0, 1, 1,\n",
              "       1, 0, 0, 0, 0, 0, 0, 2, 1, 1, 1, 1, 1, 1, 1, 0, 1, 1, 1, 0, 0, 0,\n",
              "       1, 1, 0, 1, 1, 1, 1, 2, 1, 1, 1, 1, 0, 1, 1, 1, 1, 0, 0, 1, 1, 0,\n",
              "       0, 1, 1, 1, 0, 0, 0, 0, 0, 0, 1, 1, 0, 1, 1, 1, 1, 1, 1, 1, 0, 0,\n",
              "       0, 0, 0, 1, 1, 0, 0, 0, 0, 0, 1, 1, 1, 0, 0, 0, 1, 1, 0, 1, 0, 0,\n",
              "       0, 0, 0, 0, 0, 0, 0, 3, 3, 1, 1, 1, 0, 0, 0, 2, 1, 0, 1, 0, 0, 1,\n",
              "       1, 2, 2, 0, 1, 1, 2, 2, 1, 1, 0, 0, 0, 1, 0, 0, 1, 1, 1, 0, 0, 1,\n",
              "       1, 0, 0, 0, 1, 0, 0, 1, 1, 1, 1, 1, 0, 0, 0, 0, 9, 1, 1, 1, 1, 1,\n",
              "       1, 1, 1, 0, 1, 1, 1, 1, 1, 0, 1, 1, 1, 0, 0, 0, 0, 0, 0, 1, 1, 1,\n",
              "       0, 0, 0, 1, 1, 1, 1, 1, 1, 0, 0, 0, 1, 1, 0, 1, 1, 1, 1, 0, 0, 1,\n",
              "       1, 1, 0, 0, 0, 1, 1, 1, 1, 1, 1, 0, 0, 0, 1, 1, 1, 1, 1, 1, 0, 0,\n",
              "       1, 1, 1, 1, 1, 1, 0, 0, 1, 1, 1, 1, 0, 0, 0, 0, 1, 1, 0, 1, 1, 1,\n",
              "       0, 0, 2, 2, 1, 0, 1, 1, 1, 1, 0, 0, 3, 1, 0, 1, 0, 0, 1, 1, 1, 1,\n",
              "       1, 1, 1, 1, 1, 1, 0, 0, 1, 0, 0, 1, 1, 0, 0, 0, 0, 0, 0, 0, 0, 0,\n",
              "       0, 6, 1, 1, 0, 0, 0, 0, 0, 0, 0, 0, 1, 1, 0, 0, 1, 1, 1, 1, 1, 1,\n",
              "       1, 1, 2, 1, 1, 1, 0, 1, 1, 1, 1, 1, 1, 1, 0, 0, 0, 0, 0, 0, 1, 0,\n",
              "       0, 0, 0, 1, 1, 0, 0, 0, 0, 0, 0, 0, 0, 0, 0, 0, 0, 0, 0, 1, 1, 1,\n",
              "       1, 1, 0, 1, 1, 1, 1, 0, 0, 1, 0, 0, 1, 1, 2, 0, 0, 1, 1, 1, 1, 0,\n",
              "       0, 0, 0, 0, 1, 1, 1, 0, 0, 1, 1, 1, 0, 0, 1, 1, 1, 0, 0, 0, 0, 1,\n",
              "       1, 1, 1, 1, 1, 0, 0, 2, 1, 1, 0, 0, 1, 1, 1, 1, 1, 0, 0, 0, 0, 0,\n",
              "       0, 1, 1, 0, 1, 5, 1, 1, 0, 2, 2, 2, 1, 0, 1, 1, 1, 1, 1, 1, 1],\n",
              "      dtype=int64)"
            ]
          },
          "metadata": {
            "tags": []
          },
          "execution_count": 45
        }
      ]
    },
    {
      "metadata": {
        "id": "FkXLm6bC3h2o",
        "colab_type": "code",
        "colab": {
          "base_uri": "https://localhost:8080/",
          "height": 55
        },
        "outputId": "edc6a897-4195-479c-c08f-66e45ede8803"
      },
      "cell_type": "code",
      "source": [
        "prop[0]"
      ],
      "execution_count": 46,
      "outputs": [
        {
          "output_type": "execute_result",
          "data": {
            "text/plain": [
              "'Terrace (Hotel)|Lift|Childcare|From 3 Stars|Radio|Business Hotel|Restaurant|WiFi (Rooms)|3 Star|Openable Windows|Hotel Bar|Convention Hotel|Car Park|Accessible Hotel|Accessible Parking|Express Check-In / Check-Out|Sitting Area (Rooms)|From 2 Stars|Laundry Service|Computer with Internet|Pet Friendly|Hairdryer|Reception (24/7)|Porter|Family Friendly|Spa Hotel|Non-Smoking Rooms|Safe (Hotel)|Telephone|Conference Rooms|WiFi (Public Areas)|Ironing Board|Free WiFi (Combined)|Hiking Trail|Luxury Hotel|Pool Table|Central Heating|Satellite TV|Wheelchair Accessible|Cosmetic Mirror|Good Rating|Very Good Rating|Gym|Safe (Rooms)|Free WiFi (Public Areas)|Cable TV|Business Centre|Bike Rental|Free WiFi (Rooms)|Bathtub|Satisfactory Rating|Television|Desk|Hotel'"
            ]
          },
          "metadata": {
            "tags": []
          },
          "execution_count": 46
        }
      ]
    },
    {
      "metadata": {
        "id": "JsLl5QeL4w3L",
        "colab_type": "text"
      },
      "cell_type": "markdown",
      "source": [
        "## ngram -> word count vector\n",
        "ngram은 문맥을 파악할 때 유용한데 \n",
        "이건 각 property feature를 word count해서 개수 비교하여 content similarity 계산. \n",
        "\n",
        "따라서 각 item당 feature count를 vector로 만들어서 cos sim 구하자. \n"
      ]
    },
    {
      "metadata": {
        "id": "UTS4U_a280k4",
        "colab_type": "code",
        "colab": {}
      },
      "cell_type": "code",
      "source": [
        "# apply to all items\n",
        "newproplist = [item.replace(\" \",\"\").split(\"|\") for item in prop]\n",
        "# alter nested list format into strings"
      ],
      "execution_count": 0,
      "outputs": []
    },
    {
      "metadata": {
        "id": "BY18mu-k_COV",
        "colab_type": "code",
        "colab": {}
      },
      "cell_type": "code",
      "source": [
        "  proplist = []\n",
        "  for item in newproplist:\n",
        "      proplist.append(','.join(item))\n",
        "    \n",
        "    \n",
        "  "
      ],
      "execution_count": 0,
      "outputs": []
    },
    {
      "metadata": {
        "id": "WY-c7aUI9j4S",
        "colab_type": "code",
        "colab": {
          "base_uri": "https://localhost:8080/",
          "height": 211
        },
        "outputId": "b1d07173-2ddf-4919-a20b-befafb0e1071"
      },
      "cell_type": "code",
      "source": [
        "proplist[:10] # 총 item 개수만큼(927천개)"
      ],
      "execution_count": 10,
      "outputs": [
        {
          "output_type": "execute_result",
          "data": {
            "text/plain": [
              "['Terrace(Hotel),Lift,Childcare,From3Stars,Radio,BusinessHotel,Restaurant,WiFi(Rooms),3Star,OpenableWindows,HotelBar,ConventionHotel,CarPark,AccessibleHotel,AccessibleParking,ExpressCheck-In/Check-Out,SittingArea(Rooms),From2Stars,LaundryService,ComputerwithInternet,PetFriendly,Hairdryer,Reception(24/7),Porter,FamilyFriendly,SpaHotel,Non-SmokingRooms,Safe(Hotel),Telephone,ConferenceRooms,WiFi(PublicAreas),IroningBoard,FreeWiFi(Combined),HikingTrail,LuxuryHotel,PoolTable,CentralHeating,SatelliteTV,WheelchairAccessible,CosmeticMirror,GoodRating,VeryGoodRating,Gym,Safe(Rooms),FreeWiFi(PublicAreas),CableTV,BusinessCentre,BikeRental,FreeWiFi(Rooms),Bathtub,SatisfactoryRating,Television,Desk,Hotel',\n",
              " 'Terrace(Hotel),Lift,From3Stars,Radio,From4Stars,BusinessHotel,Restaurant,WashingMachine,WiFi(Rooms),Cot,OpenableWindows,HotelBar,ConventionHotel,CarPark,AccessibleHotel,AccessibleParking,SwimmingPool(Indoor),ExpressCheck-In/Check-Out,Spa(WellnessFacility),On-SiteBoutiqueShopping,From2Stars,LaundryService,Bowling,ComputerwithInternet,PetFriendly,Hairdryer,HealthRetreat,Reception(24/7),Porter,RoomService(24/7),Singles,FamilyFriendly,Sauna,Non-SmokingRooms,ExcellentRating,Safe(Hotel),Telephone,RoomService,ConferenceRooms,Fridge,WiFi(PublicAreas),FreeWiFi(Combined),Shower,HikingTrail,SwimmingPool(CombinedFilter),LuxuryHotel,PoolTable,5Star,LargeGroups,CentralHeating,Honeymoon,SatelliteTV,WheelchairAccessible,AirConditioning,HypoallergenicRooms,CosmeticMirror,GoodRating,VeryGoodRating,Gym,Romantic,Concierge,Safe(Rooms),Fitness,FreeWiFi(PublicAreas),CableTV,FlatscreenTV,BusinessCentre,BikeRental,SelfCatering,FreeWiFi(Rooms),Bathtub,SatisfactoryRating,Television,Desk,HypoallergenicBedding,TennisCourt,Hotel',\n",
              " 'Terrace(Hotel),Lift,From3Stars,Radio,4Star,From4Stars,BusinessHotel,Restaurant,Surfing,WiFi(Rooms),Cot,SeniorTravellers,OpenableWindows,HotelBar,ConventionHotel,CarPark,AccessibleHotel,AccessibleParking,Spa(WellnessFacility),SittingArea(Rooms),From2Stars,LaundryService,Bowling,ComputerwithInternet,PetFriendly,Hairdryer,Reception(24/7),AirportHotel,Eco-Friendlyhotel,Singles,FamilyFriendly,Sauna,Non-SmokingRooms,Safe(Hotel),Telephone,RoomService,ConferenceRooms,WiFi(PublicAreas),FreeWiFi(Combined),Shower,HikingTrail,LuxuryHotel,LargeGroups,CentralHeating,BoatRental,SatelliteTV,WheelchairAccessible,CosmeticMirror,GoodRating,VeryGoodRating,Sailing,Safe(Rooms),AirportShuttle,FreeWiFi(PublicAreas),CableTV,FlatscreenTV,BikeRental,FreeWiFi(Rooms),SatisfactoryRating,Television,Desk,Hotel',\n",
              " 'Lift,Childcare,From3Stars,Radio,4Star,From4Stars,Minigolf,BusinessHotel,Massage,Restaurant,ElectricKettle,WiFi(Rooms),Cot,OpenableWindows,HotelBar,ConventionHotel,CarPark,AccessibleHotel,AccessibleParking,Fan,ExpressCheck-In/Check-Out,On-SiteBoutiqueShopping,From2Stars,LaundryService,ComputerwithInternet,PetFriendly,Hairdryer,Reception(24/7),FamilyFriendly,Sauna,Non-SmokingRooms,DoctorOn-Site,Safe(Hotel),Telephone,RoomService,ConferenceRooms,WiFi(PublicAreas),IroningBoard,FreeWiFi(Combined),Shower,SteamRoom,HikingTrail,LuxuryHotel,PoolTable,LargeGroups,CentralHeating,TennisCourt(Indoor),BoatRental,SatelliteTV,WheelchairAccessible,AirConditioning,HypoallergenicRooms,CosmeticMirror,GoodRating,VeryGoodRating,Hairdresser,Concierge,Safe(Rooms),Fitness,FreeWiFi(PublicAreas),CableTV,BusinessCentre,BikeRental,FreeWiFi(Rooms),SatisfactoryRating,Television,Desk,TennisCourt,Hotel',\n",
              " 'Terrace(Hotel),Childcare,From3Stars,Radio,BusinessHotel,SunUmbrellas,Massage,Restaurant,WiFi(Rooms),3Star,Cot,OpenableWindows,HotelBar,CarPark,SittingArea(Rooms),From2Stars,HorseRiding,PetFriendly,Hairdryer,DeckChairs,Playground,FamilyFriendly,Non-SmokingRooms,Safe(Hotel),Telephone,ConferenceRooms,WiFi(PublicAreas),FreeWiFi(Combined),Shower,HikingTrail,LuxuryHotel,CentralHeating,SatelliteTV,WheelchairAccessible,CountryHotel,CosmeticMirror,GoodRating,VeryGoodRating,FreeWiFi(PublicAreas),BusinessCentre,BikeRental,SatisfactoryRating,Television,Desk,Hotel',\n",
              " 'Terrace(Hotel),From3Stars,Radio,Minigolf,BusinessHotel,Restaurant,WiFi(Rooms),3Star,Cot,OpenableWindows,HotelBar,CarPark,AccessibleParking,ExpressCheck-In/Check-Out,SittingArea(Rooms),From2Stars,HorseRiding,LaundryService,Bowling,ComputerwithInternet,PetFriendly,Hairdryer,Singles,FamilyFriendly,Non-SmokingRooms,ExcellentRating,Safe(Hotel),Telephone,RoomService,ConferenceRooms,Balcony,WiFi(PublicAreas),FreeWiFi(Combined),Shower,LuxuryHotel,CentralHeating,TennisCourt(Indoor),SatelliteTV,HypoallergenicRooms,CosmeticMirror,GoodRating,VeryGoodRating,Safe(Rooms),FreeWiFi(PublicAreas),BikeRental,FreeWiFi(Rooms),Bathtub,SatisfactoryRating,Television,Desk,TennisCourt,Hotel',\n",
              " 'Terrace(Hotel),From3Stars,BusinessHotel,Restaurant,WiFi(Rooms),3Star,Cot,OpenableWindows,HotelBar,ConventionHotel,CarPark,SittingArea(Rooms),From2Stars,HorseRiding,LaundryService,PetFriendly,Reception(24/7),Playground,FamilyFriendly,Non-SmokingRooms,Telephone,RoomService,ConferenceRooms,WiFi(PublicAreas),FreeWiFi(Combined),Shower,HikingTrail,LuxuryHotel,CentralHeating,TennisCourt(Indoor),SatelliteTV,GoodRating,FreeWiFi(PublicAreas),BusinessCentre,BikeRental,FreeWiFi(Rooms),SatisfactoryRating,Television,Desk,TennisCourt,Hotel',\n",
              " 'Lift,From3Stars,Radio,BusinessHotel,TableTennis,WiFi(Rooms),3Star,OpenableWindows,HotelBar,CarPark,SwimmingPool(Indoor),Spa(WellnessFacility),SittingArea(Rooms),From2Stars,Hairdryer,DeckChairs,FamilyFriendly,Sauna,Non-SmokingRooms,Safe(Hotel),Telephone,WiFi(PublicAreas),FreeWiFi(Combined),Shower,HikingTrail,SwimmingPool(CombinedFilter),LuxuryHotel,CentralHeating,TennisCourt(Indoor),SatelliteTV,CosmeticMirror,GoodRating,Safe(Rooms),FreeWiFi(PublicAreas),FreeWiFi(Rooms),Bathtub,SatisfactoryRating,Television,Desk,TennisCourt,Hotel',\n",
              " 'Lift,Radio,BusinessHotel,Restaurant,2Star,ElectricKettle,WiFi(Rooms),Cot,OpenableWindows,CarPark,Fan,SittingArea(Rooms),From2Stars,LaundryService,ComputerwithInternet,PetFriendly,Hairdryer,Reception(24/7),Porter,FamilyFriendly,Non-SmokingRooms,Safe(Hotel),Telephone,WiFi(PublicAreas),IroningBoard,Shower,SwimmingPool(CombinedFilter),LuxuryHotel,WheelchairAccessible,Gym,DesignHotel,Romantic,Beach,Concierge,Safe(Rooms),AirportShuttle,CableTV,BikeRental,Bathtub,Television,Desk,TennisCourt,BoutiqueHotel,Hotel',\n",
              " 'Terrace(Hotel),Lift,From3Stars,Radio,From4Stars,BusinessHotel,Surfing,WiFi(Rooms),3Star,Cot,OpenableWindows,Volleyball,HotelBar,CarPark,AccessibleHotel,AccessibleParking,Fan,ExpressCheck-In/Check-Out,From2Stars,LaundryService,Bowling,Hairdryer,Reception(24/7),Porter,Eco-Friendlyhotel,RoomService(24/7),FamilyFriendly,Non-SmokingRooms,Safe(Hotel),Telephone,RoomService,ConferenceRooms,WiFi(PublicAreas),IroningBoard,Shower,LuxuryHotel,CentralHeating,Honeymoon,GolfCourse,WheelchairAccessible,AirConditioning,HypoallergenicRooms,CosmeticMirror,GoodRating,VeryGoodRating,Sailing,Gym,Romantic,Beach,Concierge,Safe(Rooms),CableTV,FlatscreenTV,BusinessCentre,BikeRental,Bathtub,SatisfactoryRating,Television,Desk,TennisCourt,BoutiqueHotel,Hotel']"
            ]
          },
          "metadata": {
            "tags": []
          },
          "execution_count": 10
        }
      ]
    },
    {
      "metadata": {
        "id": "r_Xy59Li-Pcm",
        "colab_type": "code",
        "colab": {}
      },
      "cell_type": "code",
      "source": [
        "vec = CountVectorizer() #with default setting, ngram범위 1 = 단어 단위로 count해준다 "
      ],
      "execution_count": 0,
      "outputs": []
    },
    {
      "metadata": {
        "id": "F0WCBRXk-p_N",
        "colab_type": "code",
        "colab": {}
      },
      "cell_type": "code",
      "source": [
        "X = vec.fit_transform(proplist)"
      ],
      "execution_count": 0,
      "outputs": []
    },
    {
      "metadata": {
        "id": "oQfAnps2-z38",
        "colab_type": "code",
        "colab": {}
      },
      "cell_type": "code",
      "source": [
        "# feature (=vocab) list\n",
        "vocab = vec.get_feature_names()"
      ],
      "execution_count": 0,
      "outputs": []
    },
    {
      "metadata": {
        "id": "5MFSgG3cFDol",
        "colab_type": "code",
        "colab": {}
      },
      "cell_type": "code",
      "source": [
        "pd.DataFrame(X.toarray(), columns = vocab) # visualization"
      ],
      "execution_count": 0,
      "outputs": []
    },
    {
      "metadata": {
        "id": "hPXWNC6ZF6Jf",
        "colab_type": "code",
        "colab": {}
      },
      "cell_type": "code",
      "source": [
        "from sklearn.metrics.pairwise import cosine_similarity"
      ],
      "execution_count": 0,
      "outputs": []
    },
    {
      "metadata": {
        "id": "-LCNUbMSGli8",
        "colab_type": "code",
        "colab": {}
      },
      "cell_type": "code",
      "source": [
        "hotel_sim = cosine_similarity(X,X)"
      ],
      "execution_count": 0,
      "outputs": []
    },
    {
      "metadata": {
        "id": "HuWId33aGtue",
        "colab_type": "code",
        "colab": {}
      },
      "cell_type": "code",
      "source": [
        ""
      ],
      "execution_count": 0,
      "outputs": []
    }
  ]
}