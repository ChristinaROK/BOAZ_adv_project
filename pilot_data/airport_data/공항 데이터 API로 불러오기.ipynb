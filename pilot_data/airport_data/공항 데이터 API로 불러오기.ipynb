{
 "cells": [
  {
   "cell_type": "markdown",
   "metadata": {},
   "source": [
    "### 인천공항 취항국가 별 항공통계 (운항편 전체) 항공 정보\n",
    "#### https://www.data.go.kr/dataset/15001017/openapi.do"
   ]
  },
  {
   "cell_type": "code",
   "execution_count": 1,
   "metadata": {},
   "outputs": [],
   "source": [
    "import pandas as pd\n",
    "import requests\n",
    "import numpy as np"
   ]
  },
  {
   "cell_type": "markdown",
   "metadata": {},
   "source": [
    "##### 참고 : http://makeshare.org/bbs/board.php?bo_table=raspberrypi&wr_id=63"
   ]
  },
  {
   "cell_type": "code",
   "execution_count": 9,
   "metadata": {},
   "outputs": [],
   "source": [
    "key = "
   ]
  },
  {
   "cell_type": "markdown",
   "metadata": {},
   "source": [
    "### 날짜(월) : 200301~201812, 정기/부정기, 여객기/화물기"
   ]
  },
  {
   "cell_type": "code",
   "execution_count": 19,
   "metadata": {
    "scrolled": true
   },
   "outputs": [
    {
     "data": {
      "text/plain": [
       "[200301,\n",
       " 200302,\n",
       " 200303,\n",
       " 200304,\n",
       " 200305,\n",
       " 200306,\n",
       " 200307,\n",
       " 200308,\n",
       " 200309,\n",
       " 200310,\n",
       " 200311,\n",
       " 200312]"
      ]
     },
     "execution_count": 19,
     "metadata": {},
     "output_type": "execute_result"
    }
   ],
   "source": [
    "month = list(range(200301, 200313))\n",
    "month"
   ]
  },
  {
   "cell_type": "code",
   "execution_count": 20,
   "metadata": {},
   "outputs": [],
   "source": [
    "for m in month :\n",
    "    month.append(m+100)\n",
    "    if len(month) == 192 :\n",
    "        break\n",
    "        \n",
    "#200301 ~ 201812\n",
    "month = list(map(str, month))"
   ]
  },
  {
   "cell_type": "code",
   "execution_count": 10,
   "metadata": {},
   "outputs": [],
   "source": [
    "data_type = '&_type=json'\n",
    "from_month = '&from_month=200301'\n",
    "to_month = '&to_month=200301'\n",
    "\n",
    "api = 'http://openapi.airport.kr/openapi/service/AviationStatsByCountry/getTotalNumberOfFlight?serviceKey='"
   ]
  },
  {
   "cell_type": "code",
   "execution_count": 11,
   "metadata": {},
   "outputs": [],
   "source": [
    "url = api+key+from_month+to_month+data_type"
   ]
  },
  {
   "cell_type": "code",
   "execution_count": 12,
   "metadata": {},
   "outputs": [
    {
     "data": {
      "text/plain": [
       "200"
      ]
     },
     "execution_count": 12,
     "metadata": {},
     "output_type": "execute_result"
    }
   ],
   "source": [
    "response = requests.get(url)\n",
    "response.status_code #200나오면 성공!"
   ]
  },
  {
   "cell_type": "code",
   "execution_count": 14,
   "metadata": {},
   "outputs": [
    {
     "data": {
      "text/plain": [
       "{'arrFlight': 36,\n",
       " 'country': '기타',\n",
       " 'depFlight': 31,\n",
       " 'flights': 67,\n",
       " 'region': '기타'}"
      ]
     },
     "execution_count": 14,
     "metadata": {},
     "output_type": "execute_result"
    }
   ],
   "source": [
    "response.json()['response']['body']['items']['item'][0]"
   ]
  },
  {
   "cell_type": "markdown",
   "metadata": {},
   "source": [
    "#### 저장할 data frame 칼럼 지정\n",
    "- date\n",
    "- periodicity(정기:0,부정기:1)\n",
    "- plane(여객기 : passenger, 화물기 : freight)\n",
    "- 불러올 데이터의 column들"
   ]
  },
  {
   "cell_type": "markdown",
   "metadata": {},
   "source": [
    "#### date,regular,type별로 api로 불러올 함수 만들기"
   ]
  },
  {
   "cell_type": "code",
   "execution_count": 21,
   "metadata": {},
   "outputs": [],
   "source": [
    "def load_api (date, periodicity, plane) :\n",
    "    #date : 한 달 씩 가져올 것\n",
    "    #periodicity : str\n",
    "    \n",
    "    data_type = '&_type=json'\n",
    "    from_month = '&from_month='+date\n",
    "    to_month = '&to_month='+date\n",
    "    \n",
    "    if plane == 'passenger' :\n",
    "        pax_cargo = 'Y'\n",
    "    else :\n",
    "        pax_cargo = 'N'\n",
    "    \n",
    "    api = 'http://openapi.airport.kr/openapi/service/AviationStatsByCountry/getTotalNumberOfFlight?serviceKey='\n",
    "    url = api+key+from_month+to_month+data_type+'&periodicity='+periodicity+'&pax_cargo='+pax_cargo\n",
    "    response = requests.get(url)\n",
    "    \n",
    "    json = response.json()\n",
    "    json = json['response']['body']['items']['item']\n",
    "    \n",
    "    n = len([*json[0]]) #json파일의 column 개수\n",
    "    dt = pd.DataFrame(columns=['arrFlight','country','depFlight','flights','region','date', 'periodicity','plane'])\n",
    "    \n",
    "    for column in dt.columns.tolist()[:n] :        \n",
    "        dt[column] = [x[column] for x in json]\n",
    "    \n",
    "    for column in dt.columns.tolist()[n:] :\n",
    "        dt[column] = eval(column)\n",
    "        \n",
    "    return(dt)"
   ]
  },
  {
   "cell_type": "code",
   "execution_count": 24,
   "metadata": {
    "scrolled": true
   },
   "outputs": [
    {
     "data": {
      "text/html": [
       "<div>\n",
       "<style scoped>\n",
       "    .dataframe tbody tr th:only-of-type {\n",
       "        vertical-align: middle;\n",
       "    }\n",
       "\n",
       "    .dataframe tbody tr th {\n",
       "        vertical-align: top;\n",
       "    }\n",
       "\n",
       "    .dataframe thead th {\n",
       "        text-align: right;\n",
       "    }\n",
       "</style>\n",
       "<table border=\"1\" class=\"dataframe\">\n",
       "  <thead>\n",
       "    <tr style=\"text-align: right;\">\n",
       "      <th></th>\n",
       "      <th>arrFlight</th>\n",
       "      <th>country</th>\n",
       "      <th>depFlight</th>\n",
       "      <th>flights</th>\n",
       "      <th>region</th>\n",
       "      <th>date</th>\n",
       "      <th>periodicity</th>\n",
       "      <th>plane</th>\n",
       "    </tr>\n",
       "  </thead>\n",
       "  <tbody>\n",
       "  </tbody>\n",
       "</table>\n",
       "</div>"
      ],
      "text/plain": [
       "Empty DataFrame\n",
       "Columns: [arrFlight, country, depFlight, flights, region, date, periodicity, plane]\n",
       "Index: []"
      ]
     },
     "execution_count": 24,
     "metadata": {},
     "output_type": "execute_result"
    }
   ],
   "source": [
    "airplane = pd.DataFrame(columns=['arrFlight','country','depFlight','flights','region','date', 'periodicity','plane'])\n",
    "#flights : 그 달에 있었던 비행 수\n",
    "airplane"
   ]
  },
  {
   "cell_type": "code",
   "execution_count": 23,
   "metadata": {},
   "outputs": [
    {
     "data": {
      "text/html": [
       "<div>\n",
       "<style scoped>\n",
       "    .dataframe tbody tr th:only-of-type {\n",
       "        vertical-align: middle;\n",
       "    }\n",
       "\n",
       "    .dataframe tbody tr th {\n",
       "        vertical-align: top;\n",
       "    }\n",
       "\n",
       "    .dataframe thead th {\n",
       "        text-align: right;\n",
       "    }\n",
       "</style>\n",
       "<table border=\"1\" class=\"dataframe\">\n",
       "  <thead>\n",
       "    <tr style=\"text-align: right;\">\n",
       "      <th></th>\n",
       "      <th>arrFlight</th>\n",
       "      <th>country</th>\n",
       "      <th>depFlight</th>\n",
       "      <th>flights</th>\n",
       "      <th>region</th>\n",
       "      <th>date</th>\n",
       "      <th>periodicity</th>\n",
       "      <th>plane</th>\n",
       "    </tr>\n",
       "  </thead>\n",
       "  <tbody>\n",
       "    <tr>\n",
       "      <th>0</th>\n",
       "      <td>31</td>\n",
       "      <td>기타</td>\n",
       "      <td>31</td>\n",
       "      <td>62</td>\n",
       "      <td>기타</td>\n",
       "      <td>200301</td>\n",
       "      <td>0</td>\n",
       "      <td>passenger</td>\n",
       "    </tr>\n",
       "    <tr>\n",
       "      <th>1</th>\n",
       "      <td>9</td>\n",
       "      <td>이집트</td>\n",
       "      <td>9</td>\n",
       "      <td>18</td>\n",
       "      <td>기타</td>\n",
       "      <td>200301</td>\n",
       "      <td>0</td>\n",
       "      <td>passenger</td>\n",
       "    </tr>\n",
       "    <tr>\n",
       "      <th>2</th>\n",
       "      <td>18</td>\n",
       "      <td>인도</td>\n",
       "      <td>18</td>\n",
       "      <td>36</td>\n",
       "      <td>기타</td>\n",
       "      <td>200301</td>\n",
       "      <td>0</td>\n",
       "      <td>passenger</td>\n",
       "    </tr>\n",
       "    <tr>\n",
       "      <th>3</th>\n",
       "      <td>60</td>\n",
       "      <td>괌</td>\n",
       "      <td>60</td>\n",
       "      <td>120</td>\n",
       "      <td>대양주</td>\n",
       "      <td>200301</td>\n",
       "      <td>0</td>\n",
       "      <td>passenger</td>\n",
       "    </tr>\n",
       "    <tr>\n",
       "      <th>4</th>\n",
       "      <td>53</td>\n",
       "      <td>뉴질랜드</td>\n",
       "      <td>53</td>\n",
       "      <td>106</td>\n",
       "      <td>대양주</td>\n",
       "      <td>200301</td>\n",
       "      <td>0</td>\n",
       "      <td>passenger</td>\n",
       "    </tr>\n",
       "    <tr>\n",
       "      <th>5</th>\n",
       "      <td>62</td>\n",
       "      <td>사이판</td>\n",
       "      <td>62</td>\n",
       "      <td>124</td>\n",
       "      <td>대양주</td>\n",
       "      <td>200301</td>\n",
       "      <td>0</td>\n",
       "      <td>passenger</td>\n",
       "    </tr>\n",
       "    <tr>\n",
       "      <th>6</th>\n",
       "      <td>0</td>\n",
       "      <td>피지</td>\n",
       "      <td>0</td>\n",
       "      <td>0</td>\n",
       "      <td>대양주</td>\n",
       "      <td>200301</td>\n",
       "      <td>0</td>\n",
       "      <td>passenger</td>\n",
       "    </tr>\n",
       "    <tr>\n",
       "      <th>7</th>\n",
       "      <td>23</td>\n",
       "      <td>하와이</td>\n",
       "      <td>23</td>\n",
       "      <td>46</td>\n",
       "      <td>대양주</td>\n",
       "      <td>200301</td>\n",
       "      <td>0</td>\n",
       "      <td>passenger</td>\n",
       "    </tr>\n",
       "    <tr>\n",
       "      <th>8</th>\n",
       "      <td>75</td>\n",
       "      <td>호주</td>\n",
       "      <td>72</td>\n",
       "      <td>147</td>\n",
       "      <td>대양주</td>\n",
       "      <td>200301</td>\n",
       "      <td>0</td>\n",
       "      <td>passenger</td>\n",
       "    </tr>\n",
       "    <tr>\n",
       "      <th>9</th>\n",
       "      <td>51</td>\n",
       "      <td>말레이시아</td>\n",
       "      <td>44</td>\n",
       "      <td>95</td>\n",
       "      <td>동남아</td>\n",
       "      <td>200301</td>\n",
       "      <td>0</td>\n",
       "      <td>passenger</td>\n",
       "    </tr>\n",
       "    <tr>\n",
       "      <th>10</th>\n",
       "      <td>89</td>\n",
       "      <td>베트남</td>\n",
       "      <td>88</td>\n",
       "      <td>177</td>\n",
       "      <td>동남아</td>\n",
       "      <td>200301</td>\n",
       "      <td>0</td>\n",
       "      <td>passenger</td>\n",
       "    </tr>\n",
       "    <tr>\n",
       "      <th>11</th>\n",
       "      <td>159</td>\n",
       "      <td>싱가포르</td>\n",
       "      <td>159</td>\n",
       "      <td>318</td>\n",
       "      <td>동남아</td>\n",
       "      <td>200301</td>\n",
       "      <td>0</td>\n",
       "      <td>passenger</td>\n",
       "    </tr>\n",
       "    <tr>\n",
       "      <th>12</th>\n",
       "      <td>53</td>\n",
       "      <td>인도네시아</td>\n",
       "      <td>54</td>\n",
       "      <td>107</td>\n",
       "      <td>동남아</td>\n",
       "      <td>200301</td>\n",
       "      <td>0</td>\n",
       "      <td>passenger</td>\n",
       "    </tr>\n",
       "    <tr>\n",
       "      <th>13</th>\n",
       "      <td>228</td>\n",
       "      <td>태국</td>\n",
       "      <td>228</td>\n",
       "      <td>456</td>\n",
       "      <td>동남아</td>\n",
       "      <td>200301</td>\n",
       "      <td>0</td>\n",
       "      <td>passenger</td>\n",
       "    </tr>\n",
       "    <tr>\n",
       "      <th>14</th>\n",
       "      <td>149</td>\n",
       "      <td>필리핀</td>\n",
       "      <td>148</td>\n",
       "      <td>297</td>\n",
       "      <td>동남아</td>\n",
       "      <td>200301</td>\n",
       "      <td>0</td>\n",
       "      <td>passenger</td>\n",
       "    </tr>\n",
       "    <tr>\n",
       "      <th>15</th>\n",
       "      <td>23</td>\n",
       "      <td>대만</td>\n",
       "      <td>17</td>\n",
       "      <td>40</td>\n",
       "      <td>동북아</td>\n",
       "      <td>200301</td>\n",
       "      <td>0</td>\n",
       "      <td>passenger</td>\n",
       "    </tr>\n",
       "    <tr>\n",
       "      <th>16</th>\n",
       "      <td>22</td>\n",
       "      <td>몽골</td>\n",
       "      <td>22</td>\n",
       "      <td>44</td>\n",
       "      <td>동북아</td>\n",
       "      <td>200301</td>\n",
       "      <td>0</td>\n",
       "      <td>passenger</td>\n",
       "    </tr>\n",
       "    <tr>\n",
       "      <th>17</th>\n",
       "      <td>259</td>\n",
       "      <td>홍콩</td>\n",
       "      <td>263</td>\n",
       "      <td>522</td>\n",
       "      <td>동북아</td>\n",
       "      <td>200301</td>\n",
       "      <td>0</td>\n",
       "      <td>passenger</td>\n",
       "    </tr>\n",
       "    <tr>\n",
       "      <th>18</th>\n",
       "      <td>486</td>\n",
       "      <td>미국</td>\n",
       "      <td>489</td>\n",
       "      <td>975</td>\n",
       "      <td>미주</td>\n",
       "      <td>200301</td>\n",
       "      <td>0</td>\n",
       "      <td>passenger</td>\n",
       "    </tr>\n",
       "    <tr>\n",
       "      <th>19</th>\n",
       "      <td>67</td>\n",
       "      <td>캐나다</td>\n",
       "      <td>66</td>\n",
       "      <td>133</td>\n",
       "      <td>미주</td>\n",
       "      <td>200301</td>\n",
       "      <td>0</td>\n",
       "      <td>passenger</td>\n",
       "    </tr>\n",
       "    <tr>\n",
       "      <th>20</th>\n",
       "      <td>26</td>\n",
       "      <td>네덜란드</td>\n",
       "      <td>26</td>\n",
       "      <td>52</td>\n",
       "      <td>유럽</td>\n",
       "      <td>200301</td>\n",
       "      <td>0</td>\n",
       "      <td>passenger</td>\n",
       "    </tr>\n",
       "    <tr>\n",
       "      <th>21</th>\n",
       "      <td>79</td>\n",
       "      <td>독일</td>\n",
       "      <td>80</td>\n",
       "      <td>159</td>\n",
       "      <td>유럽</td>\n",
       "      <td>200301</td>\n",
       "      <td>0</td>\n",
       "      <td>passenger</td>\n",
       "    </tr>\n",
       "    <tr>\n",
       "      <th>22</th>\n",
       "      <td>79</td>\n",
       "      <td>러시아</td>\n",
       "      <td>79</td>\n",
       "      <td>158</td>\n",
       "      <td>유럽</td>\n",
       "      <td>200301</td>\n",
       "      <td>0</td>\n",
       "      <td>passenger</td>\n",
       "    </tr>\n",
       "    <tr>\n",
       "      <th>23</th>\n",
       "      <td>9</td>\n",
       "      <td>스위스</td>\n",
       "      <td>8</td>\n",
       "      <td>17</td>\n",
       "      <td>유럽</td>\n",
       "      <td>200301</td>\n",
       "      <td>0</td>\n",
       "      <td>passenger</td>\n",
       "    </tr>\n",
       "    <tr>\n",
       "      <th>24</th>\n",
       "      <td>35</td>\n",
       "      <td>영국</td>\n",
       "      <td>35</td>\n",
       "      <td>70</td>\n",
       "      <td>유럽</td>\n",
       "      <td>200301</td>\n",
       "      <td>0</td>\n",
       "      <td>passenger</td>\n",
       "    </tr>\n",
       "    <tr>\n",
       "      <th>25</th>\n",
       "      <td>17</td>\n",
       "      <td>우즈베키스탄</td>\n",
       "      <td>17</td>\n",
       "      <td>34</td>\n",
       "      <td>유럽</td>\n",
       "      <td>200301</td>\n",
       "      <td>0</td>\n",
       "      <td>passenger</td>\n",
       "    </tr>\n",
       "    <tr>\n",
       "      <th>26</th>\n",
       "      <td>9</td>\n",
       "      <td>이탈리아</td>\n",
       "      <td>9</td>\n",
       "      <td>18</td>\n",
       "      <td>유럽</td>\n",
       "      <td>200301</td>\n",
       "      <td>0</td>\n",
       "      <td>passenger</td>\n",
       "    </tr>\n",
       "    <tr>\n",
       "      <th>27</th>\n",
       "      <td>7</td>\n",
       "      <td>카자흐스탄</td>\n",
       "      <td>7</td>\n",
       "      <td>14</td>\n",
       "      <td>유럽</td>\n",
       "      <td>200301</td>\n",
       "      <td>0</td>\n",
       "      <td>passenger</td>\n",
       "    </tr>\n",
       "    <tr>\n",
       "      <th>28</th>\n",
       "      <td>8</td>\n",
       "      <td>터키</td>\n",
       "      <td>8</td>\n",
       "      <td>16</td>\n",
       "      <td>유럽</td>\n",
       "      <td>200301</td>\n",
       "      <td>0</td>\n",
       "      <td>passenger</td>\n",
       "    </tr>\n",
       "    <tr>\n",
       "      <th>29</th>\n",
       "      <td>44</td>\n",
       "      <td>프랑스</td>\n",
       "      <td>44</td>\n",
       "      <td>88</td>\n",
       "      <td>유럽</td>\n",
       "      <td>200301</td>\n",
       "      <td>0</td>\n",
       "      <td>passenger</td>\n",
       "    </tr>\n",
       "    <tr>\n",
       "      <th>30</th>\n",
       "      <td>1,226</td>\n",
       "      <td>일본</td>\n",
       "      <td>1,227</td>\n",
       "      <td>2,453</td>\n",
       "      <td>일본</td>\n",
       "      <td>200301</td>\n",
       "      <td>0</td>\n",
       "      <td>passenger</td>\n",
       "    </tr>\n",
       "    <tr>\n",
       "      <th>31</th>\n",
       "      <td>945</td>\n",
       "      <td>중국</td>\n",
       "      <td>946</td>\n",
       "      <td>1,891</td>\n",
       "      <td>중국</td>\n",
       "      <td>200301</td>\n",
       "      <td>0</td>\n",
       "      <td>passenger</td>\n",
       "    </tr>\n",
       "    <tr>\n",
       "      <th>32</th>\n",
       "      <td>0</td>\n",
       "      <td>아랍에미리트</td>\n",
       "      <td>0</td>\n",
       "      <td>0</td>\n",
       "      <td>중동</td>\n",
       "      <td>200301</td>\n",
       "      <td>0</td>\n",
       "      <td>passenger</td>\n",
       "    </tr>\n",
       "    <tr>\n",
       "      <th>33</th>\n",
       "      <td>4</td>\n",
       "      <td>이란</td>\n",
       "      <td>4</td>\n",
       "      <td>8</td>\n",
       "      <td>중동</td>\n",
       "      <td>200301</td>\n",
       "      <td>0</td>\n",
       "      <td>passenger</td>\n",
       "    </tr>\n",
       "  </tbody>\n",
       "</table>\n",
       "</div>"
      ],
      "text/plain": [
       "   arrFlight country depFlight flights region    date periodicity      plane\n",
       "0         31      기타        31      62     기타  200301           0  passenger\n",
       "1          9     이집트         9      18     기타  200301           0  passenger\n",
       "2         18      인도        18      36     기타  200301           0  passenger\n",
       "3         60       괌        60     120    대양주  200301           0  passenger\n",
       "4         53    뉴질랜드        53     106    대양주  200301           0  passenger\n",
       "5         62     사이판        62     124    대양주  200301           0  passenger\n",
       "6          0      피지         0       0    대양주  200301           0  passenger\n",
       "7         23     하와이        23      46    대양주  200301           0  passenger\n",
       "8         75      호주        72     147    대양주  200301           0  passenger\n",
       "9         51   말레이시아        44      95    동남아  200301           0  passenger\n",
       "10        89     베트남        88     177    동남아  200301           0  passenger\n",
       "11       159    싱가포르       159     318    동남아  200301           0  passenger\n",
       "12        53   인도네시아        54     107    동남아  200301           0  passenger\n",
       "13       228      태국       228     456    동남아  200301           0  passenger\n",
       "14       149     필리핀       148     297    동남아  200301           0  passenger\n",
       "15        23      대만        17      40    동북아  200301           0  passenger\n",
       "16        22      몽골        22      44    동북아  200301           0  passenger\n",
       "17       259      홍콩       263     522    동북아  200301           0  passenger\n",
       "18       486      미국       489     975     미주  200301           0  passenger\n",
       "19        67     캐나다        66     133     미주  200301           0  passenger\n",
       "20        26    네덜란드        26      52     유럽  200301           0  passenger\n",
       "21        79      독일        80     159     유럽  200301           0  passenger\n",
       "22        79     러시아        79     158     유럽  200301           0  passenger\n",
       "23         9     스위스         8      17     유럽  200301           0  passenger\n",
       "24        35      영국        35      70     유럽  200301           0  passenger\n",
       "25        17  우즈베키스탄        17      34     유럽  200301           0  passenger\n",
       "26         9    이탈리아         9      18     유럽  200301           0  passenger\n",
       "27         7   카자흐스탄         7      14     유럽  200301           0  passenger\n",
       "28         8      터키         8      16     유럽  200301           0  passenger\n",
       "29        44     프랑스        44      88     유럽  200301           0  passenger\n",
       "30     1,226      일본     1,227   2,453     일본  200301           0  passenger\n",
       "31       945      중국       946   1,891     중국  200301           0  passenger\n",
       "32         0  아랍에미리트         0       0     중동  200301           0  passenger\n",
       "33         4      이란         4       8     중동  200301           0  passenger"
      ]
     },
     "execution_count": 23,
     "metadata": {},
     "output_type": "execute_result"
    }
   ],
   "source": [
    "load_api(month[0], '0', 'passenger')"
   ]
  },
  {
   "cell_type": "code",
   "execution_count": 25,
   "metadata": {},
   "outputs": [],
   "source": [
    "for m in month :\n",
    "    airplane = pd.concat([airplane, load_api(m, '0', 'passenger')], axis = 0)\n",
    "    airplane = pd.concat([airplane, load_api(m, '0', 'freight')], axis = 0)\n",
    "    airplane = pd.concat([airplane, load_api(m, '1', 'passenger')], axis = 0)\n",
    "    airplane = pd.concat([airplane, load_api(m, '1', 'freight')], axis = 0)\n",
    "#airplane"
   ]
  },
  {
   "cell_type": "code",
   "execution_count": 26,
   "metadata": {},
   "outputs": [
    {
     "data": {
      "text/plain": [
       "(21275, 8)"
      ]
     },
     "execution_count": 26,
     "metadata": {},
     "output_type": "execute_result"
    }
   ],
   "source": [
    "airplane.shape"
   ]
  },
  {
   "cell_type": "code",
   "execution_count": 27,
   "metadata": {},
   "outputs": [
    {
     "data": {
      "text/html": [
       "<div>\n",
       "<style scoped>\n",
       "    .dataframe tbody tr th:only-of-type {\n",
       "        vertical-align: middle;\n",
       "    }\n",
       "\n",
       "    .dataframe tbody tr th {\n",
       "        vertical-align: top;\n",
       "    }\n",
       "\n",
       "    .dataframe thead th {\n",
       "        text-align: right;\n",
       "    }\n",
       "</style>\n",
       "<table border=\"1\" class=\"dataframe\">\n",
       "  <thead>\n",
       "    <tr style=\"text-align: right;\">\n",
       "      <th></th>\n",
       "      <th>arrFlight</th>\n",
       "      <th>country</th>\n",
       "      <th>depFlight</th>\n",
       "      <th>flights</th>\n",
       "      <th>region</th>\n",
       "      <th>date</th>\n",
       "      <th>periodicity</th>\n",
       "      <th>plane</th>\n",
       "    </tr>\n",
       "  </thead>\n",
       "  <tbody>\n",
       "    <tr>\n",
       "      <th>3</th>\n",
       "      <td>60</td>\n",
       "      <td>괌</td>\n",
       "      <td>60</td>\n",
       "      <td>120</td>\n",
       "      <td>대양주</td>\n",
       "      <td>200301</td>\n",
       "      <td>0</td>\n",
       "      <td>passenger</td>\n",
       "    </tr>\n",
       "    <tr>\n",
       "      <th>4</th>\n",
       "      <td>53</td>\n",
       "      <td>뉴질랜드</td>\n",
       "      <td>53</td>\n",
       "      <td>106</td>\n",
       "      <td>대양주</td>\n",
       "      <td>200301</td>\n",
       "      <td>0</td>\n",
       "      <td>passenger</td>\n",
       "    </tr>\n",
       "    <tr>\n",
       "      <th>5</th>\n",
       "      <td>62</td>\n",
       "      <td>사이판</td>\n",
       "      <td>62</td>\n",
       "      <td>124</td>\n",
       "      <td>대양주</td>\n",
       "      <td>200301</td>\n",
       "      <td>0</td>\n",
       "      <td>passenger</td>\n",
       "    </tr>\n",
       "    <tr>\n",
       "      <th>6</th>\n",
       "      <td>0</td>\n",
       "      <td>피지</td>\n",
       "      <td>0</td>\n",
       "      <td>0</td>\n",
       "      <td>대양주</td>\n",
       "      <td>200301</td>\n",
       "      <td>0</td>\n",
       "      <td>passenger</td>\n",
       "    </tr>\n",
       "    <tr>\n",
       "      <th>7</th>\n",
       "      <td>23</td>\n",
       "      <td>하와이</td>\n",
       "      <td>23</td>\n",
       "      <td>46</td>\n",
       "      <td>대양주</td>\n",
       "      <td>200301</td>\n",
       "      <td>0</td>\n",
       "      <td>passenger</td>\n",
       "    </tr>\n",
       "    <tr>\n",
       "      <th>8</th>\n",
       "      <td>75</td>\n",
       "      <td>호주</td>\n",
       "      <td>72</td>\n",
       "      <td>147</td>\n",
       "      <td>대양주</td>\n",
       "      <td>200301</td>\n",
       "      <td>0</td>\n",
       "      <td>passenger</td>\n",
       "    </tr>\n",
       "    <tr>\n",
       "      <th>2</th>\n",
       "      <td>9</td>\n",
       "      <td>뉴질랜드</td>\n",
       "      <td>9</td>\n",
       "      <td>18</td>\n",
       "      <td>대양주</td>\n",
       "      <td>200301</td>\n",
       "      <td>1</td>\n",
       "      <td>passenger</td>\n",
       "    </tr>\n",
       "    <tr>\n",
       "      <th>3</th>\n",
       "      <td>1</td>\n",
       "      <td>하와이</td>\n",
       "      <td>1</td>\n",
       "      <td>2</td>\n",
       "      <td>대양주</td>\n",
       "      <td>200301</td>\n",
       "      <td>1</td>\n",
       "      <td>passenger</td>\n",
       "    </tr>\n",
       "    <tr>\n",
       "      <th>4</th>\n",
       "      <td>0</td>\n",
       "      <td>호주</td>\n",
       "      <td>3</td>\n",
       "      <td>3</td>\n",
       "      <td>대양주</td>\n",
       "      <td>200301</td>\n",
       "      <td>1</td>\n",
       "      <td>passenger</td>\n",
       "    </tr>\n",
       "    <tr>\n",
       "      <th>2</th>\n",
       "      <td>1</td>\n",
       "      <td>호주</td>\n",
       "      <td>0</td>\n",
       "      <td>1</td>\n",
       "      <td>대양주</td>\n",
       "      <td>200301</td>\n",
       "      <td>1</td>\n",
       "      <td>freight</td>\n",
       "    </tr>\n",
       "  </tbody>\n",
       "</table>\n",
       "</div>"
      ],
      "text/plain": [
       "  arrFlight country depFlight flights region    date periodicity      plane\n",
       "3        60       괌        60     120    대양주  200301           0  passenger\n",
       "4        53    뉴질랜드        53     106    대양주  200301           0  passenger\n",
       "5        62     사이판        62     124    대양주  200301           0  passenger\n",
       "6         0      피지         0       0    대양주  200301           0  passenger\n",
       "7        23     하와이        23      46    대양주  200301           0  passenger\n",
       "8        75      호주        72     147    대양주  200301           0  passenger\n",
       "2         9    뉴질랜드         9      18    대양주  200301           1  passenger\n",
       "3         1     하와이         1       2    대양주  200301           1  passenger\n",
       "4         0      호주         3       3    대양주  200301           1  passenger\n",
       "2         1      호주         0       1    대양주  200301           1    freight"
      ]
     },
     "execution_count": 27,
     "metadata": {},
     "output_type": "execute_result"
    }
   ],
   "source": [
    "airplane.loc[(airplane['date']=='200301') & (airplane['region'] == '대양주')]"
   ]
  },
  {
   "cell_type": "code",
   "execution_count": 28,
   "metadata": {},
   "outputs": [
    {
     "data": {
      "text/plain": [
       "arrFlight      4\n",
       "depFlight      4\n",
       "flights        4\n",
       "region         4\n",
       "periodicity    4\n",
       "plane          4\n",
       "dtype: int64"
      ]
     },
     "execution_count": 28,
     "metadata": {},
     "output_type": "execute_result"
    }
   ],
   "source": [
    "#flights 변수가 월별 country별 비행수\n",
    "airplane.groupby(['date','country']).count().max()"
   ]
  },
  {
   "cell_type": "code",
   "execution_count": 29,
   "metadata": {},
   "outputs": [
    {
     "data": {
      "text/html": [
       "<div>\n",
       "<style scoped>\n",
       "    .dataframe tbody tr th:only-of-type {\n",
       "        vertical-align: middle;\n",
       "    }\n",
       "\n",
       "    .dataframe tbody tr th {\n",
       "        vertical-align: top;\n",
       "    }\n",
       "\n",
       "    .dataframe thead th {\n",
       "        text-align: right;\n",
       "    }\n",
       "</style>\n",
       "<table border=\"1\" class=\"dataframe\">\n",
       "  <thead>\n",
       "    <tr style=\"text-align: right;\">\n",
       "      <th></th>\n",
       "      <th>arrFlight</th>\n",
       "      <th>country</th>\n",
       "      <th>depFlight</th>\n",
       "      <th>flights</th>\n",
       "      <th>region</th>\n",
       "      <th>date</th>\n",
       "      <th>periodicity</th>\n",
       "      <th>plane</th>\n",
       "    </tr>\n",
       "  </thead>\n",
       "  <tbody>\n",
       "    <tr>\n",
       "      <th>0</th>\n",
       "      <td>31</td>\n",
       "      <td>기타</td>\n",
       "      <td>31</td>\n",
       "      <td>62</td>\n",
       "      <td>기타</td>\n",
       "      <td>200301</td>\n",
       "      <td>0</td>\n",
       "      <td>passenger</td>\n",
       "    </tr>\n",
       "    <tr>\n",
       "      <th>1</th>\n",
       "      <td>9</td>\n",
       "      <td>이집트</td>\n",
       "      <td>9</td>\n",
       "      <td>18</td>\n",
       "      <td>기타</td>\n",
       "      <td>200301</td>\n",
       "      <td>0</td>\n",
       "      <td>passenger</td>\n",
       "    </tr>\n",
       "    <tr>\n",
       "      <th>2</th>\n",
       "      <td>18</td>\n",
       "      <td>인도</td>\n",
       "      <td>18</td>\n",
       "      <td>36</td>\n",
       "      <td>기타</td>\n",
       "      <td>200301</td>\n",
       "      <td>0</td>\n",
       "      <td>passenger</td>\n",
       "    </tr>\n",
       "    <tr>\n",
       "      <th>3</th>\n",
       "      <td>60</td>\n",
       "      <td>괌</td>\n",
       "      <td>60</td>\n",
       "      <td>120</td>\n",
       "      <td>대양주</td>\n",
       "      <td>200301</td>\n",
       "      <td>0</td>\n",
       "      <td>passenger</td>\n",
       "    </tr>\n",
       "    <tr>\n",
       "      <th>4</th>\n",
       "      <td>53</td>\n",
       "      <td>뉴질랜드</td>\n",
       "      <td>53</td>\n",
       "      <td>106</td>\n",
       "      <td>대양주</td>\n",
       "      <td>200301</td>\n",
       "      <td>0</td>\n",
       "      <td>passenger</td>\n",
       "    </tr>\n",
       "  </tbody>\n",
       "</table>\n",
       "</div>"
      ],
      "text/plain": [
       "  arrFlight country depFlight flights region    date periodicity      plane\n",
       "0        31      기타        31      62     기타  200301           0  passenger\n",
       "1         9     이집트         9      18     기타  200301           0  passenger\n",
       "2        18      인도        18      36     기타  200301           0  passenger\n",
       "3        60       괌        60     120    대양주  200301           0  passenger\n",
       "4        53    뉴질랜드        53     106    대양주  200301           0  passenger"
      ]
     },
     "execution_count": 29,
     "metadata": {},
     "output_type": "execute_result"
    }
   ],
   "source": [
    "airplane.index = list(range(airplane.shape[0]))\n",
    "airplane.head()"
   ]
  },
  {
   "cell_type": "code",
   "execution_count": 30,
   "metadata": {},
   "outputs": [],
   "source": [
    "airplane['year'] = [date[:4] for date in airplane['date']]\n",
    "airplane['month'] = [date[4:] for date in airplane['date']]"
   ]
  },
  {
   "cell_type": "code",
   "execution_count": 36,
   "metadata": {
    "scrolled": true
   },
   "outputs": [],
   "source": [
    "#string으로 들어있는 값들 ',' 뺴고 숫자로 바꿈\n",
    "airplane.loc[airplane['flights'].astype(str).str.isnumeric()==False , 'flights'] = airplane.loc[airplane['flights'].astype(str).str.isnumeric()==False , 'flights'].apply(lambda x: x.replace(',',''))\n",
    "airplane.flights = pd.to_numeric(airplane.flights)"
   ]
  },
  {
   "cell_type": "code",
   "execution_count": 38,
   "metadata": {},
   "outputs": [
    {
     "data": {
      "text/plain": [
       "year\n",
       "2003    126513\n",
       "2004    146141\n",
       "2005    157134\n",
       "2006    177841\n",
       "2007    207397\n",
       "2008    206985\n",
       "2009    193919\n",
       "2010    210218\n",
       "2011    224687\n",
       "2012    248031\n",
       "2013    264586\n",
       "2014    284575\n",
       "2015    300634\n",
       "2016    334528\n",
       "2017    355162\n",
       "2018    381747\n",
       "Name: flights, dtype: int64"
      ]
     },
     "execution_count": 38,
     "metadata": {},
     "output_type": "execute_result"
    }
   ],
   "source": [
    "#숫자로 바뀌었다. -> 연도별 항공 수\n",
    "airplane.groupby(['year'])['flights'].sum()"
   ]
  },
  {
   "cell_type": "markdown",
   "metadata": {},
   "source": [
    "### date"
   ]
  },
  {
   "cell_type": "code",
   "execution_count": 42,
   "metadata": {},
   "outputs": [
    {
     "data": {
      "text/plain": [
       "<matplotlib.axes._subplots.AxesSubplot at 0x1eb6676d9e8>"
      ]
     },
     "execution_count": 42,
     "metadata": {},
     "output_type": "execute_result"
    },
    {
     "data": {
      "image/png": "[encoded data removed]",
      "text/plain": [
       "<Figure size 432x288 with 1 Axes>"
      ]
     },
     "metadata": {},
     "output_type": "display_data"
    }
   ],
   "source": [
    "#전체 데이터 연도별 비행수\n",
    "airplane.groupby(['year'])['flights'].sum().plot('bar')"
   ]
  },
  {
   "cell_type": "code",
   "execution_count": 43,
   "metadata": {},
   "outputs": [
    {
     "data": {
      "text/plain": [
       "<matplotlib.axes._subplots.AxesSubplot at 0x1eb66808128>"
      ]
     },
     "execution_count": 43,
     "metadata": {},
     "output_type": "execute_result"
    },
    {
     "data": {
      "image/png": "[encoded data removed]",
      "text/plain": [
       "<Figure size 432x288 with 1 Axes>"
      ]
     },
     "metadata": {},
     "output_type": "display_data"
    }
   ],
   "source": [
    "#전체 데이터 월별 비행수\n",
    "airplane.groupby(['month'])['flights'].sum().plot('bar')"
   ]
  },
  {
   "cell_type": "code",
   "execution_count": 47,
   "metadata": {},
   "outputs": [],
   "source": [
    "import matplotlib.pyplot as plt"
   ]
  },
  {
   "cell_type": "code",
   "execution_count": 49,
   "metadata": {},
   "outputs": [
    {
     "data": {
      "image/png": "[encoded data removed]",
      "text/plain": [
       "<Figure size 720x360 with 1 Axes>"
      ]
     },
     "metadata": {},
     "output_type": "display_data"
    }
   ],
   "source": [
    "#by year\n",
    "#화물은 비슷 승객은 엄청 늘어난 것을 알 수 있다\n",
    "plt.figure(figsize=(10,5))\n",
    "\n",
    "X = airplane.year.unique()\n",
    "Y = airplane.loc[airplane['plane'] == 'passenger',].groupby(['year'])['flights'].sum()\n",
    "Z = airplane.loc[airplane['plane'] == 'freight',].groupby(['year'])['flights'].sum()\n",
    "_X = np.arange(len(X))\n",
    "\n",
    "plt.bar(_X - 0.2, Y, 0.4)\n",
    "plt.plot(_X - 0.2, Y, 0.4)\n",
    "plt.bar(_X + 0.2, Z, 0.4)\n",
    "plt.plot(_X + 0.2, Z, 0.4, color = 'C1')\n",
    "plt.xticks(_X, X)\n",
    "plt.legend(['passenger','freight'])\n",
    "plt.show()"
   ]
  },
  {
   "cell_type": "code",
   "execution_count": 51,
   "metadata": {},
   "outputs": [
    {
     "data": {
      "image/png": "[encoded data removed]",
      "text/plain": [
       "<Figure size 720x360 with 1 Axes>"
      ]
     },
     "metadata": {},
     "output_type": "display_data"
    }
   ],
   "source": [
    "#by month\n",
    "#여름, 겨울에 승객 수가 늘어나는 것을 알 수 있다\n",
    "plt.figure(figsize=(10,5))\n",
    "\n",
    "X = airplane.month.unique()\n",
    "Y = airplane.loc[airplane['plane'] == 'passenger',].groupby(['month'])['flights'].sum()\n",
    "Z = airplane.loc[airplane['plane'] == 'freight',].groupby(['month'])['flights'].sum()\n",
    "_X = np.arange(len(X))\n",
    "\n",
    "plt.bar(_X - 0.2, Y, 0.4)\n",
    "plt.plot(_X - 0.2, Y, 0.4)\n",
    "plt.bar(_X + 0.2, Z, 0.4)\n",
    "plt.plot(_X + 0.2, Z, 0.4, color = 'C1')\n",
    "\n",
    "plt.xticks(_X, X) \n",
    "plt.legend(['passenger','freight'])\n",
    "plt.show()"
   ]
  },
  {
   "cell_type": "markdown",
   "metadata": {},
   "source": [
    "### country"
   ]
  },
  {
   "cell_type": "code",
   "execution_count": 52,
   "metadata": {},
   "outputs": [
    {
     "data": {
      "text/plain": [
       "105"
      ]
     },
     "execution_count": 52,
     "metadata": {},
     "output_type": "execute_result"
    }
   ],
   "source": [
    "len(airplane.country.unique())"
   ]
  },
  {
   "cell_type": "code",
   "execution_count": 60,
   "metadata": {
    "scrolled": true
   },
   "outputs": [
    {
     "data": {
      "text/plain": [
       "country\n",
       "중국              987604\n",
       "일본              677787\n",
       "미국              430561\n",
       "홍콩              208579\n",
       "필리핀             184408\n",
       "태국              183234\n",
       "베트남             160405\n",
       "대만               96303\n",
       "싱가포르             79004\n",
       "러시아              71759\n",
       "말레이시아            70731\n",
       "독일               67780\n",
       "인도네시아            44465\n",
       "괌                40443\n",
       "캄보디아             39566\n",
       "캐나다              35426\n",
       "프랑스              32565\n",
       "호주               32331\n",
       "하와이              28764\n",
       "사이판              28141\n",
       "영국               26813\n",
       "마카오              23339\n",
       "아랍에미리트           23271\n",
       "터키               19908\n",
       "몽골               19412\n",
       "이탈리아             18488\n",
       "네덜란드             17950\n",
       "인도               17270\n",
       "카타르              12002\n",
       "우즈베키스탄           11988\n",
       "                 ...  \n",
       "우간다                 10\n",
       "투르크메니스탄             10\n",
       "타지키스탄                6\n",
       "베네수엘라                5\n",
       "요르단                  5\n",
       "나이지리아                4\n",
       "아이티                  4\n",
       "파푸아뉴기니               4\n",
       "우크라이나                4\n",
       "이라크                  3\n",
       "남아프리카공화국             3\n",
       "아르메니아                3\n",
       "조지아                  3\n",
       "모로코                  2\n",
       "과테말라                 2\n",
       "벨라루스                 2\n",
       "수단                   2\n",
       "에콰도르                 2\n",
       "리비아 아랍 자마히리아         2\n",
       "콩고                   2\n",
       "칠레                   2\n",
       "기아나(프랑스령)            1\n",
       "마다가스카르               1\n",
       "지부티                  1\n",
       "오만                   1\n",
       "아이슬란드                1\n",
       "루마니아                 1\n",
       "콜롬비아                 0\n",
       "타이티                  0\n",
       "가나                   0\n",
       "Name: flights, Length: 105, dtype: int64"
      ]
     },
     "execution_count": 60,
     "metadata": {},
     "output_type": "execute_result"
    }
   ],
   "source": [
    "#counry별 비행 수\n",
    "airplane.groupby(['country'])['flights'].sum().sort_values(ascending=False)"
   ]
  },
  {
   "cell_type": "markdown",
   "metadata": {},
   "source": [
    "### region"
   ]
  },
  {
   "cell_type": "code",
   "execution_count": 61,
   "metadata": {},
   "outputs": [
    {
     "data": {
      "text/plain": [
       "9"
      ]
     },
     "execution_count": 61,
     "metadata": {},
     "output_type": "execute_result"
    }
   ],
   "source": [
    "len(airplane.region.unique())"
   ]
  },
  {
   "cell_type": "code",
   "execution_count": 62,
   "metadata": {},
   "outputs": [
    {
     "data": {
      "text/plain": [
       "region\n",
       "중국     987604\n",
       "동남아    778496\n",
       "일본     677787\n",
       "미주     471963\n",
       "동북아    347633\n",
       "유럽     331194\n",
       "대양주    151406\n",
       "중동      42628\n",
       "기타      31387\n",
       "Name: flights, dtype: int64"
      ]
     },
     "execution_count": 62,
     "metadata": {},
     "output_type": "execute_result"
    }
   ],
   "source": [
    "#region 비행 수\n",
    "airplane.groupby(['region'])['flights'].sum().sort_values(ascending=False)"
   ]
  },
  {
   "cell_type": "markdown",
   "metadata": {},
   "source": [
    "#### only China"
   ]
  },
  {
   "cell_type": "code",
   "execution_count": 74,
   "metadata": {},
   "outputs": [
    {
     "data": {
      "image/png": "[encoded data removed]",
      "text/plain": [
       "<Figure size 720x360 with 1 Axes>"
      ]
     },
     "metadata": {},
     "output_type": "display_data"
    }
   ],
   "source": [
    "#by year, region\n",
    "#연도별 TOP2 중국, 일본\n",
    "\n",
    "plt.figure(figsize=(10,5))\n",
    "\n",
    "X = airplane.year.unique()\n",
    "Y1 = airplane.loc[(airplane['plane'] == 'passenger') & (airplane.country=='중국')].groupby(['year'])['flights'].sum()\n",
    "Y2 = airplane.loc[(airplane['plane'] == 'passenger') & (airplane.country=='일본')].groupby(['year'])['flights'].sum()\n",
    "\n",
    "_X = np.arange(len(X))\n",
    "\n",
    "plt.bar(_X - 0.2, Y1, 0.4)\n",
    "plt.plot(_X - 0.2, Y1, 0.4)\n",
    "plt.bar(_X +0.2, Y2, 0.4)\n",
    "plt.plot(_X +0.2, Y2, 0.4, color = 'C1')\n",
    "\n",
    "plt.xticks(_X, X)\n",
    "plt.legend(['China','Japan'])\n",
    "plt.show()"
   ]
  }
 ],
 "metadata": {
  "kernelspec": {
   "display_name": "Python 3",
   "language": "python",
   "name": "python3"
  },
  "language_info": {
   "codemirror_mode": {
    "name": "ipython",
    "version": 3
   },
   "file_extension": ".py",
   "mimetype": "text/x-python",
   "name": "python",
   "nbconvert_exporter": "python",
   "pygments_lexer": "ipython3",
   "version": "3.6.5"
  }
 },
 "nbformat": 4,
 "nbformat_minor": 2
}
